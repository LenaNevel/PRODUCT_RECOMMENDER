{
 "cells": [
  {
   "cell_type": "markdown",
   "metadata": {},
   "source": [
    "# Skincare Product Recommender"
   ]
  },
  {
   "cell_type": "markdown",
   "metadata": {},
   "source": [
    "In recent years we have become more and more concerned with what is in the products we use. It is true for our food, our skincare, and how our clothes are made. \n",
    "What happens though if you have a favorite skincare product from [Sephora](https://www.sephora.com/)? It is already really hard to find products that you like initially, and now you are going clean and organic and have to start the process all over again. This is where this project comes in. I wanted to create an organic product alternative to your favorite Sephora skincare products. "
   ]
  },
  {
   "cell_type": "markdown",
   "metadata": {},
   "source": [
    "Sephora is a leading company that carries different lines and offers a large choice of products from hair, makeup and skincare categories. Here I only focus on the skincare products. Sephora has a lot of choices for it's customers, including a \"[Clean Sephora](https://www.sephora.com/beauty/clean-beauty-products)\" section. Thus part of my recommendation stayed in Sephora. I also gathered data from [Credo](https://credobeauty.com/) and [Follain](https://follain.com/) to provide more options. The one thing to note about clean and organic companies at this time is their inventory is smaller in size usually and thus provides less choices. "
   ]
  },
  {
   "cell_type": "markdown",
   "metadata": {},
   "source": [
    "#### Table of Contents\n",
    "\n",
    "[Gathering the data](#Gathering-the-data)<br>\n",
    "[Cleaning Data](#Cleaning-Data)<br>\n",
    "[Creating the Recommender](#Creating-the-Recommender)<br>\n",
    "[Flask App](#Flask-App)<br>"
   ]
  },
  {
   "cell_type": "markdown",
   "metadata": {},
   "source": [
    "## Gathering the data"
   ]
  },
  {
   "cell_type": "markdown",
   "metadata": {},
   "source": [
    "The first thing I needed to do was gather the data. I used Selenium, requests and BeautifulSoup to gather the data from the three online stores. Since I did a previous project on trying to predict product prices from Sephora and already gathered the data, I ended up using the same data for this project. You can see the code for gathering Sephora data in my project called [Capstone](https://github.com/LenaNevel/CAPSTONE) on GitHub. I followed similar steps when gathering data from Credo and Follain. The jupyter notebooks where I gather the data can be found in \"gathering_data\" folder of this project."
   ]
  },
  {
   "cell_type": "code",
   "execution_count": 1,
   "metadata": {},
   "outputs": [
    {
     "name": "stdout",
     "output_type": "stream",
     "text": [
      "Initially 2768 product urls were gathered from Sephora.com.\n",
      "From CredoBeauty.com there was also 613 urls initially.\n",
      "And last but not least, 189 urls where gathered from Follain\n"
     ]
    }
   ],
   "source": [
    "import pandas as pd\n",
    "sephora_slugs = pd.read_csv('./data/sephora_urls.csv')\n",
    "credo_slugs = pd.read_csv('./data/credo_product_slugs.csv')\n",
    "follain_slugs = pd.read_csv('./data/follain_product_slugs.csv')\n",
    "\n",
    "print(\"Initially {} product urls were gathered from Sephora.com.\".format(len(sephora_slugs)))\n",
    "print(\"From CredoBeauty.com there was also {} urls initially.\".format(len(credo_slugs)))\n",
    "print(\"And last but not least, {} urls where gathered from Follain\".format(len(follain_slugs)))"
   ]
  },
  {
   "cell_type": "code",
   "execution_count": 2,
   "metadata": {},
   "outputs": [
    {
     "name": "stdout",
     "output_type": "stream",
     "text": [
      "After removing duplicates, 2457 sephora, 517 credo and 164 follain products were left.\n"
     ]
    }
   ],
   "source": [
    "sephora_initial_clean = pd.read_csv('./data/sephora_intial_clean.csv')\n",
    "credo_initial_clean = pd.read_csv('./data/credo_initial_clean.csv')\n",
    "follain_initial_clean = pd.read_csv('./data/follain_initial_clean.csv')\n",
    "\n",
    "print('After removing duplicates, {} sephora, {} credo and {} follain products were left.'.format(len(sephora_initial_clean),\n",
    "                                                                                                 len(credo_initial_clean),\n",
    "                                                                                                 len(follain_initial_clean)))"
   ]
  },
  {
   "cell_type": "code",
   "execution_count": 3,
   "metadata": {},
   "outputs": [
    {
     "name": "stdout",
     "output_type": "stream",
     "text": [
      "There is 557 products in the 'Clean Sephora' section of Sephora\n"
     ]
    }
   ],
   "source": [
    "clean_sephora = sephora_initial_clean[sephora_initial_clean['type'] == 'clean']\n",
    "print(\"There is {} products in the 'Clean Sephora' section of Sephora\".format(len(clean_sephora)))"
   ]
  },
  {
   "cell_type": "markdown",
   "metadata": {},
   "source": [
    "You can see that unfortunately, Credo and Follain have a much smaller inventory and thus less choices for an alternative choices. However, luckily Sephora now has clean options too and they have a larger number of products for us to choose from. "
   ]
  },
  {
   "cell_type": "markdown",
   "metadata": {},
   "source": [
    "The data that I focused on collecting was name of the product, company name, price and ingredients. I also kept track of which category each product belonged to (moisturizer, serum, eye cream, ...) and the url that led to that product description page. "
   ]
  },
  {
   "cell_type": "code",
   "execution_count": 4,
   "metadata": {},
   "outputs": [
    {
     "data": {
      "text/html": [
       "<div>\n",
       "<style scoped>\n",
       "    .dataframe tbody tr th:only-of-type {\n",
       "        vertical-align: middle;\n",
       "    }\n",
       "\n",
       "    .dataframe tbody tr th {\n",
       "        vertical-align: top;\n",
       "    }\n",
       "\n",
       "    .dataframe thead th {\n",
       "        text-align: right;\n",
       "    }\n",
       "</style>\n",
       "<table border=\"1\" class=\"dataframe\">\n",
       "  <thead>\n",
       "    <tr style=\"text-align: right;\">\n",
       "      <th></th>\n",
       "      <th>name</th>\n",
       "      <th>brand</th>\n",
       "      <th>category</th>\n",
       "      <th>price</th>\n",
       "      <th>ingredients</th>\n",
       "      <th>store</th>\n",
       "      <th>url</th>\n",
       "      <th>type</th>\n",
       "    </tr>\n",
       "  </thead>\n",
       "  <tbody>\n",
       "    <tr>\n",
       "      <th>0</th>\n",
       "      <td>Brightening Cleanser</td>\n",
       "      <td>Indie Lee</td>\n",
       "      <td>cleansers</td>\n",
       "      <td>34.0</td>\n",
       "      <td>Water, Decyl Glucoside, Disodium Coco Glucosid...</td>\n",
       "      <td>Follain</td>\n",
       "      <td>https://follain.com//collections/skincare-clea...</td>\n",
       "      <td>clean</td>\n",
       "    </tr>\n",
       "    <tr>\n",
       "      <th>1</th>\n",
       "      <td>Ocean Cleanser</td>\n",
       "      <td>OSEA</td>\n",
       "      <td>cleansers</td>\n",
       "      <td>48.0</td>\n",
       "      <td>Water, Algae Extract, Decyl Glucoside, Sodium ...</td>\n",
       "      <td>Follain</td>\n",
       "      <td>https://follain.com//collections/skincare-clea...</td>\n",
       "      <td>clean</td>\n",
       "    </tr>\n",
       "    <tr>\n",
       "      <th>2</th>\n",
       "      <td>Regenerating Cleanser</td>\n",
       "      <td>Tata Harper</td>\n",
       "      <td>cleansers</td>\n",
       "      <td>84.0</td>\n",
       "      <td>Aloe Vera Leaf Juice, Cetearyl Alcohol, Cetear...</td>\n",
       "      <td>Follain</td>\n",
       "      <td>https://follain.com//collections/skincare-clea...</td>\n",
       "      <td>clean</td>\n",
       "    </tr>\n",
       "    <tr>\n",
       "      <th>3</th>\n",
       "      <td>Vitamin B Cleansing Oil &amp; Makeup Remover</td>\n",
       "      <td>One Love Organics</td>\n",
       "      <td>cleansers</td>\n",
       "      <td>42.0</td>\n",
       "      <td>Helianthus Annus Seed Oil, Caprylic, Di-PPG-2 ...</td>\n",
       "      <td>Follain</td>\n",
       "      <td>https://follain.com//collections/skincare-clea...</td>\n",
       "      <td>clean</td>\n",
       "    </tr>\n",
       "    <tr>\n",
       "      <th>4</th>\n",
       "      <td>Fantastic Face Wash</td>\n",
       "      <td>Ursa Major</td>\n",
       "      <td>cleansers</td>\n",
       "      <td>28.0</td>\n",
       "      <td>Aloe Barbadensis Leaf Juice, Lauryl Glucoside,...</td>\n",
       "      <td>Follain</td>\n",
       "      <td>https://follain.com//collections/skincare-clea...</td>\n",
       "      <td>clean</td>\n",
       "    </tr>\n",
       "  </tbody>\n",
       "</table>\n",
       "</div>"
      ],
      "text/plain": [
       "                                       name              brand   category  \\\n",
       "0                      Brightening Cleanser          Indie Lee  cleansers   \n",
       "1                            Ocean Cleanser               OSEA  cleansers   \n",
       "2                     Regenerating Cleanser        Tata Harper  cleansers   \n",
       "3  Vitamin B Cleansing Oil & Makeup Remover  One Love Organics  cleansers   \n",
       "4                       Fantastic Face Wash         Ursa Major  cleansers   \n",
       "\n",
       "   price                                        ingredients    store  \\\n",
       "0   34.0  Water, Decyl Glucoside, Disodium Coco Glucosid...  Follain   \n",
       "1   48.0  Water, Algae Extract, Decyl Glucoside, Sodium ...  Follain   \n",
       "2   84.0  Aloe Vera Leaf Juice, Cetearyl Alcohol, Cetear...  Follain   \n",
       "3   42.0  Helianthus Annus Seed Oil, Caprylic, Di-PPG-2 ...  Follain   \n",
       "4   28.0  Aloe Barbadensis Leaf Juice, Lauryl Glucoside,...  Follain   \n",
       "\n",
       "                                                 url   type  \n",
       "0  https://follain.com//collections/skincare-clea...  clean  \n",
       "1  https://follain.com//collections/skincare-clea...  clean  \n",
       "2  https://follain.com//collections/skincare-clea...  clean  \n",
       "3  https://follain.com//collections/skincare-clea...  clean  \n",
       "4  https://follain.com//collections/skincare-clea...  clean  "
      ]
     },
     "execution_count": 4,
     "metadata": {},
     "output_type": "execute_result"
    }
   ],
   "source": [
    "follain_initial_clean.head()"
   ]
  },
  {
   "cell_type": "markdown",
   "metadata": {},
   "source": [
    "## Cleaning Data"
   ]
  },
  {
   "cell_type": "markdown",
   "metadata": {},
   "source": [
    "After collecting the data, a lot of work had to be done cleaning it up so it would be in working condition. The entire cleaning code can be found in \"cleaning_data\" folder. "
   ]
  },
  {
   "cell_type": "markdown",
   "metadata": {},
   "source": [
    "First I looked at each store individually. After that I combined them in to one DataFrame. While I was cleaning and doing EDA one of the techniques that helped me the most of looking at all of the unique ingredients individually. The code that I wrote is below. I did a lot of manually checking all of the unique ingredients and checking for any out of place characters. "
   ]
  },
  {
   "cell_type": "code",
   "execution_count": 5,
   "metadata": {},
   "outputs": [
    {
     "name": "stdout",
     "output_type": "stream",
     "text": [
      "86472\n",
      "7526\n"
     ]
    },
    {
     "data": {
      "text/plain": [
       "['Sorbitan Palmitate',\n",
       " 'Sorbitan Sesquiisostearate',\n",
       " 'Sorbitan Sesquioleate',\n",
       " 'Sorbitan Stearate',\n",
       " 'Sorbitan Trioleate']"
      ]
     },
     "execution_count": 5,
     "metadata": {},
     "output_type": "execute_result"
    }
   ],
   "source": [
    "#this is a quick method to check the ingredients for legibility\n",
    "\n",
    "products = pd.read_csv('./data/products_combined.csv')\n",
    "\n",
    "all_ingredients = []\n",
    "\n",
    "for i in products.index:\n",
    "    list_ingredients = products.ingredients[i].split(', ')\n",
    "    for j in list_ingredients:     \n",
    "        all_ingredients.append(j.strip())\n",
    "print(len(all_ingredients))\n",
    "print(len(set(all_ingredients)))\n",
    "\n",
    "unique_ingredients = set(all_ingredients)\n",
    "sorted(unique_ingredients)[5000:5005]"
   ]
  },
  {
   "cell_type": "markdown",
   "metadata": {},
   "source": [
    "In \"combining_stores.ipynb\" you will notice I used Fuzzy String Matching technique to combine any similar ingredients that might have mispellings or in other way spelled differently but essentially mean the same thing. Fuzzy String Matching finds things that are approximately alike instead of exactly alike. For the benefit of recommening products I made an assumption that something that came from the fruit or from the seed are similar enough for our case. I used \"larger than 75%\" threshold of Fuzzy String Matching to combine similar ingredients. "
   ]
  },
  {
   "attachments": {},
   "cell_type": "markdown",
   "metadata": {},
   "source": [
    "<img src=\"./images/example1.jpeg\">"
   ]
  },
  {
   "cell_type": "markdown",
   "metadata": {},
   "source": [
    "## Creating the Recommender"
   ]
  },
  {
   "cell_type": "markdown",
   "metadata": {},
   "source": [
    "To create the recommender I needed to compare product to product based on their ingredients. To create my vectors for comparison, I used CountVectorizer to create my DataFrame of ingredients. Similar to the Fuzzy String Matching that I did above to find similar item to item, I was using pairwise distance matrix to find product vector similarity. The pairwise distance gives a number between 0 and 1. The closer to 0 the score is the more similar the two products are based on their ingredients list. "
   ]
  },
  {
   "cell_type": "code",
   "execution_count": 6,
   "metadata": {},
   "outputs": [],
   "source": [
    "from sklearn.feature_extraction.text import CountVectorizer\n",
    "from sklearn.metrics.pairwise import pairwise_distances\n",
    "\n",
    "#CountVactorizer splits the ingredients by comma and not in to individual words\n",
    "cvec = CountVectorizer(tokenizer=lambda x: x.split(', '))\n",
    "#training CountVectorizer and transforming\n",
    "cvec_words = cvec.fit_transform(products['ingredients'])\n",
    "#calculating the pairwise distance for products\n",
    "recommender = pairwise_distances(cvec_words, metric='cosine')\n",
    "\n",
    "#building a recommender DataFrame\n",
    "recommender_df = pd.DataFrame(recommender, columns=products['name'], index=products['name'])"
   ]
  },
  {
   "cell_type": "code",
   "execution_count": 7,
   "metadata": {},
   "outputs": [
    {
     "data": {
      "text/html": [
       "<div>\n",
       "<style scoped>\n",
       "    .dataframe tbody tr th:only-of-type {\n",
       "        vertical-align: middle;\n",
       "    }\n",
       "\n",
       "    .dataframe tbody tr th {\n",
       "        vertical-align: top;\n",
       "    }\n",
       "\n",
       "    .dataframe thead th {\n",
       "        text-align: right;\n",
       "    }\n",
       "</style>\n",
       "<table border=\"1\" class=\"dataframe\">\n",
       "  <thead>\n",
       "    <tr style=\"text-align: right;\">\n",
       "      <th>name</th>\n",
       "      <th>Protini Polypeptide Moisturizer</th>\n",
       "      <th>The Water Cream</th>\n",
       "      <th>Ultra Facial Cream</th>\n",
       "      <th>CC+ Cream with SPF 50+</th>\n",
       "      <th>The Dewy Skin Cream</th>\n",
       "      <th>Lala Retro Whipped Moisturizer with Ceramides</th>\n",
       "      <th>Crme de la Mer Moisturizer</th>\n",
       "      <th>F-Balm Electrolyte Waterfacial Mask</th>\n",
       "      <th>The True Cream Aqua Bomb</th>\n",
       "      <th>Virgin Marula Antioxidant Face Oil</th>\n",
       "      <th>...</th>\n",
       "      <th>Rose Lip Polish</th>\n",
       "      <th>Grapefruit Lip Balm</th>\n",
       "      <th>Sun Protection Lip Balm SPF 15</th>\n",
       "      <th>Lemon Lip Balm</th>\n",
       "      <th>Mint Lip Balm</th>\n",
       "      <th>Mineral Sunscreen Unscented SPF 30</th>\n",
       "      <th>Super Shield Sport Stick Sunscreen SPF 50</th>\n",
       "      <th>Mineral Sunscreen SPF 30 Fragrance-Free</th>\n",
       "      <th>Mineral Sunscreen SPF 30 Lightly Scented</th>\n",
       "      <th>Mineral Sunscreen SPF 30</th>\n",
       "    </tr>\n",
       "    <tr>\n",
       "      <th>name</th>\n",
       "      <th></th>\n",
       "      <th></th>\n",
       "      <th></th>\n",
       "      <th></th>\n",
       "      <th></th>\n",
       "      <th></th>\n",
       "      <th></th>\n",
       "      <th></th>\n",
       "      <th></th>\n",
       "      <th></th>\n",
       "      <th></th>\n",
       "      <th></th>\n",
       "      <th></th>\n",
       "      <th></th>\n",
       "      <th></th>\n",
       "      <th></th>\n",
       "      <th></th>\n",
       "      <th></th>\n",
       "      <th></th>\n",
       "      <th></th>\n",
       "      <th></th>\n",
       "    </tr>\n",
       "  </thead>\n",
       "  <tbody>\n",
       "    <tr>\n",
       "      <th>Protini Polypeptide Moisturizer</th>\n",
       "      <td>0.000000</td>\n",
       "      <td>0.000000</td>\n",
       "      <td>0.844636</td>\n",
       "      <td>1.0</td>\n",
       "      <td>0.879856</td>\n",
       "      <td>0.778052</td>\n",
       "      <td>0.939217</td>\n",
       "      <td>0.739121</td>\n",
       "      <td>0.910657</td>\n",
       "      <td>1.0</td>\n",
       "      <td>...</td>\n",
       "      <td>1.0</td>\n",
       "      <td>0.966097</td>\n",
       "      <td>0.972005</td>\n",
       "      <td>1.0</td>\n",
       "      <td>0.963582</td>\n",
       "      <td>0.969876</td>\n",
       "      <td>0.964907</td>\n",
       "      <td>0.854329</td>\n",
       "      <td>0.927164</td>\n",
       "      <td>0.971347</td>\n",
       "    </tr>\n",
       "    <tr>\n",
       "      <th>The Water Cream</th>\n",
       "      <td>0.000000</td>\n",
       "      <td>0.000000</td>\n",
       "      <td>0.844636</td>\n",
       "      <td>1.0</td>\n",
       "      <td>0.879856</td>\n",
       "      <td>0.778052</td>\n",
       "      <td>0.939217</td>\n",
       "      <td>0.739121</td>\n",
       "      <td>0.910657</td>\n",
       "      <td>1.0</td>\n",
       "      <td>...</td>\n",
       "      <td>1.0</td>\n",
       "      <td>0.966097</td>\n",
       "      <td>0.972005</td>\n",
       "      <td>1.0</td>\n",
       "      <td>0.963582</td>\n",
       "      <td>0.969876</td>\n",
       "      <td>0.964907</td>\n",
       "      <td>0.854329</td>\n",
       "      <td>0.927164</td>\n",
       "      <td>0.971347</td>\n",
       "    </tr>\n",
       "    <tr>\n",
       "      <th>Ultra Facial Cream</th>\n",
       "      <td>0.844636</td>\n",
       "      <td>0.844636</td>\n",
       "      <td>0.000000</td>\n",
       "      <td>1.0</td>\n",
       "      <td>0.819561</td>\n",
       "      <td>0.657143</td>\n",
       "      <td>0.921754</td>\n",
       "      <td>0.798502</td>\n",
       "      <td>0.838985</td>\n",
       "      <td>1.0</td>\n",
       "      <td>...</td>\n",
       "      <td>1.0</td>\n",
       "      <td>0.869069</td>\n",
       "      <td>0.927925</td>\n",
       "      <td>1.0</td>\n",
       "      <td>0.859358</td>\n",
       "      <td>0.922443</td>\n",
       "      <td>0.954825</td>\n",
       "      <td>0.812477</td>\n",
       "      <td>0.906239</td>\n",
       "      <td>0.926229</td>\n",
       "    </tr>\n",
       "    <tr>\n",
       "      <th>CC+ Cream with SPF 50+</th>\n",
       "      <td>1.000000</td>\n",
       "      <td>1.000000</td>\n",
       "      <td>1.000000</td>\n",
       "      <td>0.0</td>\n",
       "      <td>1.000000</td>\n",
       "      <td>1.000000</td>\n",
       "      <td>1.000000</td>\n",
       "      <td>1.000000</td>\n",
       "      <td>1.000000</td>\n",
       "      <td>1.0</td>\n",
       "      <td>...</td>\n",
       "      <td>1.0</td>\n",
       "      <td>1.000000</td>\n",
       "      <td>1.000000</td>\n",
       "      <td>1.0</td>\n",
       "      <td>1.000000</td>\n",
       "      <td>1.000000</td>\n",
       "      <td>1.000000</td>\n",
       "      <td>1.000000</td>\n",
       "      <td>1.000000</td>\n",
       "      <td>1.000000</td>\n",
       "    </tr>\n",
       "    <tr>\n",
       "      <th>The Dewy Skin Cream</th>\n",
       "      <td>0.879856</td>\n",
       "      <td>0.879856</td>\n",
       "      <td>0.819561</td>\n",
       "      <td>1.0</td>\n",
       "      <td>0.000000</td>\n",
       "      <td>0.896892</td>\n",
       "      <td>0.952938</td>\n",
       "      <td>0.838409</td>\n",
       "      <td>0.875485</td>\n",
       "      <td>1.0</td>\n",
       "      <td>...</td>\n",
       "      <td>1.0</td>\n",
       "      <td>1.000000</td>\n",
       "      <td>1.000000</td>\n",
       "      <td>1.0</td>\n",
       "      <td>1.000000</td>\n",
       "      <td>0.860058</td>\n",
       "      <td>1.000000</td>\n",
       "      <td>0.915409</td>\n",
       "      <td>0.915409</td>\n",
       "      <td>0.933444</td>\n",
       "    </tr>\n",
       "  </tbody>\n",
       "</table>\n",
       "<p>5 rows × 3134 columns</p>\n",
       "</div>"
      ],
      "text/plain": [
       "name                             Protini Polypeptide Moisturizer  \\\n",
       "name                                                               \n",
       "Protini Polypeptide Moisturizer                         0.000000   \n",
       "The Water Cream                                         0.000000   \n",
       "Ultra Facial Cream                                      0.844636   \n",
       "CC+ Cream with SPF 50+                                  1.000000   \n",
       "The Dewy Skin Cream                                     0.879856   \n",
       "\n",
       "name                             The Water Cream  Ultra Facial Cream  \\\n",
       "name                                                                   \n",
       "Protini Polypeptide Moisturizer         0.000000            0.844636   \n",
       "The Water Cream                         0.000000            0.844636   \n",
       "Ultra Facial Cream                      0.844636            0.000000   \n",
       "CC+ Cream with SPF 50+                  1.000000            1.000000   \n",
       "The Dewy Skin Cream                     0.879856            0.819561   \n",
       "\n",
       "name                             CC+ Cream with SPF 50+  The Dewy Skin Cream  \\\n",
       "name                                                                           \n",
       "Protini Polypeptide Moisturizer                     1.0             0.879856   \n",
       "The Water Cream                                     1.0             0.879856   \n",
       "Ultra Facial Cream                                  1.0             0.819561   \n",
       "CC+ Cream with SPF 50+                              0.0             1.000000   \n",
       "The Dewy Skin Cream                                 1.0             0.000000   \n",
       "\n",
       "name                             Lala Retro Whipped Moisturizer with Ceramides  \\\n",
       "name                                                                             \n",
       "Protini Polypeptide Moisturizer                                       0.778052   \n",
       "The Water Cream                                                       0.778052   \n",
       "Ultra Facial Cream                                                    0.657143   \n",
       "CC+ Cream with SPF 50+                                                1.000000   \n",
       "The Dewy Skin Cream                                                   0.896892   \n",
       "\n",
       "name                             Crme de la Mer Moisturizer  \\\n",
       "name                                                          \n",
       "Protini Polypeptide Moisturizer                    0.939217   \n",
       "The Water Cream                                    0.939217   \n",
       "Ultra Facial Cream                                 0.921754   \n",
       "CC+ Cream with SPF 50+                             1.000000   \n",
       "The Dewy Skin Cream                                0.952938   \n",
       "\n",
       "name                             F-Balm Electrolyte Waterfacial Mask  \\\n",
       "name                                                                   \n",
       "Protini Polypeptide Moisturizer                             0.739121   \n",
       "The Water Cream                                             0.739121   \n",
       "Ultra Facial Cream                                          0.798502   \n",
       "CC+ Cream with SPF 50+                                      1.000000   \n",
       "The Dewy Skin Cream                                         0.838409   \n",
       "\n",
       "name                             The True Cream Aqua Bomb  \\\n",
       "name                                                        \n",
       "Protini Polypeptide Moisturizer                  0.910657   \n",
       "The Water Cream                                  0.910657   \n",
       "Ultra Facial Cream                               0.838985   \n",
       "CC+ Cream with SPF 50+                           1.000000   \n",
       "The Dewy Skin Cream                              0.875485   \n",
       "\n",
       "name                             Virgin Marula Antioxidant Face Oil  ...  \\\n",
       "name                                                                 ...   \n",
       "Protini Polypeptide Moisturizer                                 1.0  ...   \n",
       "The Water Cream                                                 1.0  ...   \n",
       "Ultra Facial Cream                                              1.0  ...   \n",
       "CC+ Cream with SPF 50+                                          1.0  ...   \n",
       "The Dewy Skin Cream                                             1.0  ...   \n",
       "\n",
       "name                             Rose Lip Polish  Grapefruit Lip Balm  \\\n",
       "name                                                                    \n",
       "Protini Polypeptide Moisturizer              1.0             0.966097   \n",
       "The Water Cream                              1.0             0.966097   \n",
       "Ultra Facial Cream                           1.0             0.869069   \n",
       "CC+ Cream with SPF 50+                       1.0             1.000000   \n",
       "The Dewy Skin Cream                          1.0             1.000000   \n",
       "\n",
       "name                             Sun Protection Lip Balm SPF 15  \\\n",
       "name                                                              \n",
       "Protini Polypeptide Moisturizer                        0.972005   \n",
       "The Water Cream                                        0.972005   \n",
       "Ultra Facial Cream                                     0.927925   \n",
       "CC+ Cream with SPF 50+                                 1.000000   \n",
       "The Dewy Skin Cream                                    1.000000   \n",
       "\n",
       "name                             Lemon Lip Balm  Mint Lip Balm  \\\n",
       "name                                                             \n",
       "Protini Polypeptide Moisturizer             1.0       0.963582   \n",
       "The Water Cream                             1.0       0.963582   \n",
       "Ultra Facial Cream                          1.0       0.859358   \n",
       "CC+ Cream with SPF 50+                      1.0       1.000000   \n",
       "The Dewy Skin Cream                         1.0       1.000000   \n",
       "\n",
       "name                             Mineral Sunscreen Unscented SPF 30  \\\n",
       "name                                                                  \n",
       "Protini Polypeptide Moisturizer                            0.969876   \n",
       "The Water Cream                                            0.969876   \n",
       "Ultra Facial Cream                                         0.922443   \n",
       "CC+ Cream with SPF 50+                                     1.000000   \n",
       "The Dewy Skin Cream                                        0.860058   \n",
       "\n",
       "name                             Super Shield Sport Stick Sunscreen SPF 50  \\\n",
       "name                                                                         \n",
       "Protini Polypeptide Moisturizer                                   0.964907   \n",
       "The Water Cream                                                   0.964907   \n",
       "Ultra Facial Cream                                                0.954825   \n",
       "CC+ Cream with SPF 50+                                            1.000000   \n",
       "The Dewy Skin Cream                                               1.000000   \n",
       "\n",
       "name                             Mineral Sunscreen SPF 30 Fragrance-Free  \\\n",
       "name                                                                       \n",
       "Protini Polypeptide Moisturizer                                 0.854329   \n",
       "The Water Cream                                                 0.854329   \n",
       "Ultra Facial Cream                                              0.812477   \n",
       "CC+ Cream with SPF 50+                                          1.000000   \n",
       "The Dewy Skin Cream                                             0.915409   \n",
       "\n",
       "name                             Mineral Sunscreen SPF 30 Lightly Scented  \\\n",
       "name                                                                        \n",
       "Protini Polypeptide Moisturizer                                  0.927164   \n",
       "The Water Cream                                                  0.927164   \n",
       "Ultra Facial Cream                                               0.906239   \n",
       "CC+ Cream with SPF 50+                                           1.000000   \n",
       "The Dewy Skin Cream                                              0.915409   \n",
       "\n",
       "name                             Mineral Sunscreen SPF 30  \n",
       "name                                                       \n",
       "Protini Polypeptide Moisturizer                  0.971347  \n",
       "The Water Cream                                  0.971347  \n",
       "Ultra Facial Cream                               0.926229  \n",
       "CC+ Cream with SPF 50+                           1.000000  \n",
       "The Dewy Skin Cream                              0.933444  \n",
       "\n",
       "[5 rows x 3134 columns]"
      ]
     },
     "execution_count": 7,
     "metadata": {},
     "output_type": "execute_result"
    }
   ],
   "source": [
    "recommender_df.head()"
   ]
  },
  {
   "cell_type": "markdown",
   "metadata": {},
   "source": [
    "I wanted to make sure that even if the person uses lower case or only part of the name when making a search request the system can find the right item. Thus the code below does just that."
   ]
  },
  {
   "cell_type": "code",
   "execution_count": 8,
   "metadata": {},
   "outputs": [
    {
     "data": {
      "text/html": [
       "<div>\n",
       "<style scoped>\n",
       "    .dataframe tbody tr th:only-of-type {\n",
       "        vertical-align: middle;\n",
       "    }\n",
       "\n",
       "    .dataframe tbody tr th {\n",
       "        vertical-align: top;\n",
       "    }\n",
       "\n",
       "    .dataframe thead th {\n",
       "        text-align: right;\n",
       "    }\n",
       "</style>\n",
       "<table border=\"1\" class=\"dataframe\">\n",
       "  <thead>\n",
       "    <tr style=\"text-align: right;\">\n",
       "      <th></th>\n",
       "      <th>name</th>\n",
       "      <th>brand</th>\n",
       "      <th>category</th>\n",
       "      <th>price</th>\n",
       "      <th>ingredients</th>\n",
       "      <th>store</th>\n",
       "      <th>url</th>\n",
       "      <th>type</th>\n",
       "      <th>website</th>\n",
       "    </tr>\n",
       "  </thead>\n",
       "  <tbody>\n",
       "    <tr>\n",
       "      <th>0</th>\n",
       "      <td>The Dewy Skin Cream</td>\n",
       "      <td>Tatcha</td>\n",
       "      <td>moisturizer</td>\n",
       "      <td>$68.0</td>\n",
       "      <td>Water, Saccharomyces, Glycerin, Propanediol, D...</td>\n",
       "      <td>Sephora</td>\n",
       "      <td>https://www.sephora.com/product/the-dewy-skin-...</td>\n",
       "      <td>clean</td>\n",
       "      <td>&lt;a href=\"https://www.sephora.com/product/the-d...</td>\n",
       "    </tr>\n",
       "  </tbody>\n",
       "</table>\n",
       "</div>"
      ],
      "text/plain": [
       "                  name   brand     category  price  \\\n",
       "0  The Dewy Skin Cream  Tatcha  moisturizer  $68.0   \n",
       "\n",
       "                                         ingredients    store  \\\n",
       "0  Water, Saccharomyces, Glycerin, Propanediol, D...  Sephora   \n",
       "\n",
       "                                                 url   type  \\\n",
       "0  https://www.sephora.com/product/the-dewy-skin-...  clean   \n",
       "\n",
       "                                             website  \n",
       "0  <a href=\"https://www.sephora.com/product/the-d...  "
      ]
     },
     "execution_count": 8,
     "metadata": {},
     "output_type": "execute_result"
    }
   ],
   "source": [
    "user_input = 'the dewy skin'\n",
    "#making sure user input is going to be interpreted properly\n",
    "titles = products[products['name'].str.lower().str.contains(user_input.lower())]\n",
    "titles.reset_index(inplace = True)\n",
    "titles= titles.drop(columns = ['index'])\n",
    "titles"
   ]
  },
  {
   "cell_type": "markdown",
   "metadata": {},
   "source": [
    "My goal was to built a Flask app to be able to display my recommendations. There was a few things I needed to account for. First, is there a product with that name in our database in the first place. If not, what would be my output. Second, is that item already part of \"Clean Sephora\". Third, if it is not part of \"Clean Sephora\" and it exists in the database would would be the recommendations for it. "
   ]
  },
  {
   "cell_type": "markdown",
   "metadata": {},
   "source": [
    "Take a look at the code below. \"Water Rose Moisture Cream\" is a cream sold at CVS. At the moment it is not in our system. What I decided to do was utilize the Fuzzy String Matching again to find titles which would be nearest what was entered. What happens is it measures the similarity distance between the product names which are in the database and the entered by user name if it can't find an exact match. The \"website\" column of the dataset that is printed to the screen leads to the product description page in the Flask app. "
   ]
  },
  {
   "cell_type": "code",
   "execution_count": 9,
   "metadata": {},
   "outputs": [
    {
     "name": "stderr",
     "output_type": "stream",
     "text": [
      "/Users/yelenanevel/opt/anaconda3/lib/python3.7/site-packages/fuzzywuzzy/fuzz.py:11: UserWarning: Using slow pure-python SequenceMatcher. Install python-Levenshtein to remove this warning\n",
      "  warnings.warn('Using slow pure-python SequenceMatcher. Install python-Levenshtein to remove this warning')\n"
     ]
    }
   ],
   "source": [
    "from fuzzywuzzy import fuzz\n",
    "\n",
    "\n",
    "user_input = 'Water Rose Moisture Cream'\n",
    "fuzzy = []\n",
    "for k in products.name:\n",
    "    fuzzy.append((k, fuzz.ratio(k.lower(), user_input.lower())))\n",
    "fuzzy_ratio = pd.DataFrame(fuzzy, columns = ['name', 'ratio'])\n",
    "similar = fuzzy_ratio.sort_values(by = 'ratio', ascending = False)\n",
    "similar = similar[0:5]\n",
    "similar.reset_index(inplace=True)\n",
    "similar.drop(['index', 'ratio'], axis = 1, inplace = True)\n",
    "for index, item in enumerate(similar.name):\n",
    "    similar.loc[index,'brand']=products[products['name'] == item]['brand'].values[0]\n",
    "    similar.loc[index,'price'] = products[products['name'] == item]['price'].values[0]\n",
    "    similar.loc[index,'store'] = products[products['name'] == item]['store'].values[0]\n",
    "    similar.loc[index,'website'] = products[products['name'] == item]['website'].values[0]"
   ]
  },
  {
   "cell_type": "code",
   "execution_count": 10,
   "metadata": {},
   "outputs": [
    {
     "data": {
      "text/html": [
       "<div>\n",
       "<style scoped>\n",
       "    .dataframe tbody tr th:only-of-type {\n",
       "        vertical-align: middle;\n",
       "    }\n",
       "\n",
       "    .dataframe tbody tr th {\n",
       "        vertical-align: top;\n",
       "    }\n",
       "\n",
       "    .dataframe thead th {\n",
       "        text-align: right;\n",
       "    }\n",
       "</style>\n",
       "<table border=\"1\" class=\"dataframe\">\n",
       "  <thead>\n",
       "    <tr style=\"text-align: right;\">\n",
       "      <th></th>\n",
       "      <th>name</th>\n",
       "      <th>brand</th>\n",
       "      <th>price</th>\n",
       "      <th>store</th>\n",
       "      <th>website</th>\n",
       "    </tr>\n",
       "  </thead>\n",
       "  <tbody>\n",
       "    <tr>\n",
       "      <th>0</th>\n",
       "      <td>Water Bank Moisture Cream</td>\n",
       "      <td>LANEIGE</td>\n",
       "      <td>$38.0</td>\n",
       "      <td>Sephora</td>\n",
       "      <td>&lt;a href=\"https://www.sephora.com/product/water...</td>\n",
       "    </tr>\n",
       "    <tr>\n",
       "      <th>1</th>\n",
       "      <td>Chia Seed Moisture Cream</td>\n",
       "      <td>boscia</td>\n",
       "      <td>$38.0</td>\n",
       "      <td>Sephora</td>\n",
       "      <td>&lt;a href=\"https://www.sephora.com/product/chia-...</td>\n",
       "    </tr>\n",
       "    <tr>\n",
       "      <th>2</th>\n",
       "      <td>Extra Repair Moisture Cream</td>\n",
       "      <td>Bobbi Brown</td>\n",
       "      <td>$102.0</td>\n",
       "      <td>Sephora</td>\n",
       "      <td>&lt;a href=\"https://www.sephora.com/product/extra...</td>\n",
       "    </tr>\n",
       "    <tr>\n",
       "      <th>3</th>\n",
       "      <td>Moisture Cream</td>\n",
       "      <td>Eve Lom</td>\n",
       "      <td>$150.0</td>\n",
       "      <td>Sephora</td>\n",
       "      <td>&lt;a href=\"https://www.sephora.com/product/the-e...</td>\n",
       "    </tr>\n",
       "    <tr>\n",
       "      <th>4</th>\n",
       "      <td>Banana Souffl Moisture Cream</td>\n",
       "      <td>Glow Recipe</td>\n",
       "      <td>$39.0</td>\n",
       "      <td>Sephora</td>\n",
       "      <td>&lt;a href=\"https://www.sephora.com/product/glow-...</td>\n",
       "    </tr>\n",
       "  </tbody>\n",
       "</table>\n",
       "</div>"
      ],
      "text/plain": [
       "                           name        brand   price    store  \\\n",
       "0     Water Bank Moisture Cream      LANEIGE   $38.0  Sephora   \n",
       "1      Chia Seed Moisture Cream       boscia   $38.0  Sephora   \n",
       "2   Extra Repair Moisture Cream  Bobbi Brown  $102.0  Sephora   \n",
       "3                Moisture Cream      Eve Lom  $150.0  Sephora   \n",
       "4  Banana Souffl Moisture Cream  Glow Recipe   $39.0  Sephora   \n",
       "\n",
       "                                             website  \n",
       "0  <a href=\"https://www.sephora.com/product/water...  \n",
       "1  <a href=\"https://www.sephora.com/product/chia-...  \n",
       "2  <a href=\"https://www.sephora.com/product/extra...  \n",
       "3  <a href=\"https://www.sephora.com/product/the-e...  \n",
       "4  <a href=\"https://www.sephora.com/product/glow-...  "
      ]
     },
     "execution_count": 10,
     "metadata": {},
     "output_type": "execute_result"
    }
   ],
   "source": [
    "similar"
   ]
  },
  {
   "cell_type": "markdown",
   "metadata": {},
   "source": [
    "If the item is in our database AND it's also part of \"Clean Sephora\" it made sense to me to recommend other products from the same line. Any time the user will enter a title that is already \"clean\" it will recommend a random five other products from that same brand. "
   ]
  },
  {
   "cell_type": "code",
   "execution_count": 11,
   "metadata": {},
   "outputs": [],
   "source": [
    "searched_item = 'The Dewy Skin Cream'\n",
    "searched_category = products[products['name'] == searched_item]['category'].values[0]\n",
    "searched_brand = products[products['name'] == searched_item]['brand'].values[0]\n",
    "#if the product is already part of 'clean sephora'\n",
    "if products[(products['name'] == searched_item) & (products['store'] == 'Sephora')]['type'].values == 'clean':\n",
    "    brand_other = products[(products['brand'] == searched_brand) & (products['store'] == 'Sephora')]\n",
    "    brand_other = brand_other[brand_other['name'] != searched_item]\n",
    "    print_to_screen = brand_other.sample(n=5)\n",
    "    print_to_screen = print_to_screen[['name', 'brand', 'price', 'store', 'website']]"
   ]
  },
  {
   "cell_type": "code",
   "execution_count": 12,
   "metadata": {},
   "outputs": [
    {
     "data": {
      "text/html": [
       "<div>\n",
       "<style scoped>\n",
       "    .dataframe tbody tr th:only-of-type {\n",
       "        vertical-align: middle;\n",
       "    }\n",
       "\n",
       "    .dataframe tbody tr th {\n",
       "        vertical-align: top;\n",
       "    }\n",
       "\n",
       "    .dataframe thead th {\n",
       "        text-align: right;\n",
       "    }\n",
       "</style>\n",
       "<table border=\"1\" class=\"dataframe\">\n",
       "  <thead>\n",
       "    <tr style=\"text-align: right;\">\n",
       "      <th></th>\n",
       "      <th>name</th>\n",
       "      <th>brand</th>\n",
       "      <th>price</th>\n",
       "      <th>store</th>\n",
       "      <th>website</th>\n",
       "    </tr>\n",
       "  </thead>\n",
       "  <tbody>\n",
       "    <tr>\n",
       "      <th>1149</th>\n",
       "      <td>Aburatorigami Japanese Blotting Papers</td>\n",
       "      <td>Tatcha</td>\n",
       "      <td>$12.0</td>\n",
       "      <td>Sephora</td>\n",
       "      <td>&lt;a href=\"https://www.sephora.com/product/abura...</td>\n",
       "    </tr>\n",
       "    <tr>\n",
       "      <th>2294</th>\n",
       "      <td>The Kissu Lip Mask</td>\n",
       "      <td>Tatcha</td>\n",
       "      <td>$28.0</td>\n",
       "      <td>Sephora</td>\n",
       "      <td>&lt;a href=\"https://www.sephora.com/product/tatch...</td>\n",
       "    </tr>\n",
       "    <tr>\n",
       "      <th>1306</th>\n",
       "      <td>Violet-C Brightening Serum 20% Vitamin C + 10%...</td>\n",
       "      <td>Tatcha</td>\n",
       "      <td>$88.0</td>\n",
       "      <td>Sephora</td>\n",
       "      <td>&lt;a href=\"https://www.sephora.com/product/viole...</td>\n",
       "    </tr>\n",
       "    <tr>\n",
       "      <th>1775</th>\n",
       "      <td>The Silk Peony Melting Eye Cream</td>\n",
       "      <td>Tatcha</td>\n",
       "      <td>$60.0</td>\n",
       "      <td>Sephora</td>\n",
       "      <td>&lt;a href=\"https://www.sephora.com/product/the-s...</td>\n",
       "    </tr>\n",
       "    <tr>\n",
       "      <th>2334</th>\n",
       "      <td>Camellia Gold Spun Lip Balm</td>\n",
       "      <td>Tatcha</td>\n",
       "      <td>$30.0</td>\n",
       "      <td>Sephora</td>\n",
       "      <td>&lt;a href=\"https://www.sephora.com/product/camel...</td>\n",
       "    </tr>\n",
       "  </tbody>\n",
       "</table>\n",
       "</div>"
      ],
      "text/plain": [
       "                                                   name   brand  price  \\\n",
       "1149             Aburatorigami Japanese Blotting Papers  Tatcha  $12.0   \n",
       "2294                                 The Kissu Lip Mask  Tatcha  $28.0   \n",
       "1306  Violet-C Brightening Serum 20% Vitamin C + 10%...  Tatcha  $88.0   \n",
       "1775                   The Silk Peony Melting Eye Cream  Tatcha  $60.0   \n",
       "2334                        Camellia Gold Spun Lip Balm  Tatcha  $30.0   \n",
       "\n",
       "        store                                            website  \n",
       "1149  Sephora  <a href=\"https://www.sephora.com/product/abura...  \n",
       "2294  Sephora  <a href=\"https://www.sephora.com/product/tatch...  \n",
       "1306  Sephora  <a href=\"https://www.sephora.com/product/viole...  \n",
       "1775  Sephora  <a href=\"https://www.sephora.com/product/the-s...  \n",
       "2334  Sephora  <a href=\"https://www.sephora.com/product/camel...  "
      ]
     },
     "execution_count": 12,
     "metadata": {},
     "output_type": "execute_result"
    }
   ],
   "source": [
    "print_to_screen"
   ]
  },
  {
   "attachments": {},
   "cell_type": "markdown",
   "metadata": {},
   "source": [
    "Now the third question. What to do if the product is not \"clean\" and it is part of our database. In this case, I went with recommending other products that ARE part of \"Clean Sephora\" but also recommend products that can be found in Credo and Follain. I pick the products that have the lowest pairwise distance score. In this case I have to mention some limitations that I encountered. There was a lot of inconsistency in how companies would enter the ingredients of their products on Sephora. There was a lot of mispelled ones and also some that ment the same thing but were spelled or entered differently. That is one of the reasons I went with Fuzzy String Matching. Just take a look at the photo below. When scraping Credo and Follain the issue I ran in to sometimes was that for the sake of being more transparent to the customer (my assumption) companies would use \"Orange Peel Oil\" instead of Citrus Aurantium Dulcis Peel Oil which other companies use. When using Fuzzy String Matching unfortunately that wouldn't be caught. \n",
    "<img src=\"./images/example2.jpeg\">"
   ]
  },
  {
   "cell_type": "code",
   "execution_count": 13,
   "metadata": {},
   "outputs": [],
   "source": [
    "searched_item = 'Truth Serum'\n",
    "searched_category = products[products['name'] == searched_item]['category'].values[0]\n",
    "searched_brand = products[products['name'] == searched_item]['brand'].values[0]\n",
    "\n",
    "df = pd.DataFrame(recommender_df[searched_item].index)\n",
    "df['score'] = recommender_df[searched_item].values\n",
    "df[['brand', 'category', 'price', 'store', 'url', 'type', 'website']] = products[['brand',\n",
    "                                                                       'category', 'price', 'store', 'url', 'type', 'website']]\n",
    "#pulling out only the same category of the searched item\n",
    "appropriete_category = df[(df['category'] == searched_category) &(df['type'] == 'clean')].sort_values(by = 'score')\n",
    "#first table is the clean sephora recommentations\n",
    "clean_sephora_recommendation = appropriete_category[appropriete_category['store'] == 'Sephora']\n",
    "print_to_screen_sep = clean_sephora_recommendation[['name', 'brand', 'price', 'store', 'website']]\n",
    "print_to_screen_sep = print_to_screen_sep[print_to_screen_sep['name'] != searched_item]\n",
    "print_to_screen_sep = print_to_screen_sep[0:5]\n",
    "\n",
    "#second table is the other clean stores\n",
    "other_clean = appropriete_category[appropriete_category['store'] != 'Sephora']\n",
    "print_to_screen_other = other_clean[['name', 'brand', 'price', 'store', 'website']]\n",
    "print_to_screen_other = print_to_screen_other[print_to_screen_other['name'] != searched_item]\n",
    "print_to_screen_other = print_to_screen_other[0:5]"
   ]
  },
  {
   "cell_type": "code",
   "execution_count": 14,
   "metadata": {},
   "outputs": [
    {
     "data": {
      "text/html": [
       "<div>\n",
       "<style scoped>\n",
       "    .dataframe tbody tr th:only-of-type {\n",
       "        vertical-align: middle;\n",
       "    }\n",
       "\n",
       "    .dataframe tbody tr th {\n",
       "        vertical-align: top;\n",
       "    }\n",
       "\n",
       "    .dataframe thead th {\n",
       "        text-align: right;\n",
       "    }\n",
       "</style>\n",
       "<table border=\"1\" class=\"dataframe\">\n",
       "  <thead>\n",
       "    <tr style=\"text-align: right;\">\n",
       "      <th></th>\n",
       "      <th>name</th>\n",
       "      <th>brand</th>\n",
       "      <th>price</th>\n",
       "      <th>store</th>\n",
       "      <th>website</th>\n",
       "    </tr>\n",
       "  </thead>\n",
       "  <tbody>\n",
       "    <tr>\n",
       "      <th>1302</th>\n",
       "      <td>Squalane + 10% Lactic Acid Resurfacing Night S...</td>\n",
       "      <td>Biossance</td>\n",
       "      <td>$62.0</td>\n",
       "      <td>Sephora</td>\n",
       "      <td>&lt;a href=\"https://www.sephora.com/product/bioss...</td>\n",
       "    </tr>\n",
       "    <tr>\n",
       "      <th>1534</th>\n",
       "      <td>FAB Skin Lab Retinol Serum 0.25% Pure Concentrate</td>\n",
       "      <td>First Aid Beauty</td>\n",
       "      <td>$58.0</td>\n",
       "      <td>Sephora</td>\n",
       "      <td>&lt;a href=\"https://www.sephora.com/product/fab-s...</td>\n",
       "    </tr>\n",
       "    <tr>\n",
       "      <th>1517</th>\n",
       "      <td>Skin Rescue Acne Clearing Pads with White Clay</td>\n",
       "      <td>First Aid Beauty</td>\n",
       "      <td>$30.0</td>\n",
       "      <td>Sephora</td>\n",
       "      <td>&lt;a href=\"https://www.sephora.com/product/skin-...</td>\n",
       "    </tr>\n",
       "    <tr>\n",
       "      <th>1556</th>\n",
       "      <td>Apple Cider Vinegar Resurfacing Peel Pads</td>\n",
       "      <td>Volition Beauty</td>\n",
       "      <td>$64.0</td>\n",
       "      <td>Sephora</td>\n",
       "      <td>&lt;a href=\"https://www.sephora.com/product/apple...</td>\n",
       "    </tr>\n",
       "    <tr>\n",
       "      <th>1309</th>\n",
       "      <td>D-Bronzi Anti-Pollution Sunshine Drops</td>\n",
       "      <td>Drunk Elephant</td>\n",
       "      <td>$36.0</td>\n",
       "      <td>Sephora</td>\n",
       "      <td>&lt;a href=\"https://www.sephora.com/product/d-bro...</td>\n",
       "    </tr>\n",
       "  </tbody>\n",
       "</table>\n",
       "</div>"
      ],
      "text/plain": [
       "                                                   name             brand  \\\n",
       "1302  Squalane + 10% Lactic Acid Resurfacing Night S...         Biossance   \n",
       "1534  FAB Skin Lab Retinol Serum 0.25% Pure Concentrate  First Aid Beauty   \n",
       "1517     Skin Rescue Acne Clearing Pads with White Clay  First Aid Beauty   \n",
       "1556          Apple Cider Vinegar Resurfacing Peel Pads   Volition Beauty   \n",
       "1309             D-Bronzi Anti-Pollution Sunshine Drops    Drunk Elephant   \n",
       "\n",
       "      price    store                                            website  \n",
       "1302  $62.0  Sephora  <a href=\"https://www.sephora.com/product/bioss...  \n",
       "1534  $58.0  Sephora  <a href=\"https://www.sephora.com/product/fab-s...  \n",
       "1517  $30.0  Sephora  <a href=\"https://www.sephora.com/product/skin-...  \n",
       "1556  $64.0  Sephora  <a href=\"https://www.sephora.com/product/apple...  \n",
       "1309  $36.0  Sephora  <a href=\"https://www.sephora.com/product/d-bro...  "
      ]
     },
     "execution_count": 14,
     "metadata": {},
     "output_type": "execute_result"
    }
   ],
   "source": [
    "print_to_screen_sep"
   ]
  },
  {
   "cell_type": "code",
   "execution_count": 15,
   "metadata": {},
   "outputs": [
    {
     "data": {
      "text/html": [
       "<div>\n",
       "<style scoped>\n",
       "    .dataframe tbody tr th:only-of-type {\n",
       "        vertical-align: middle;\n",
       "    }\n",
       "\n",
       "    .dataframe tbody tr th {\n",
       "        vertical-align: top;\n",
       "    }\n",
       "\n",
       "    .dataframe thead th {\n",
       "        text-align: right;\n",
       "    }\n",
       "</style>\n",
       "<table border=\"1\" class=\"dataframe\">\n",
       "  <thead>\n",
       "    <tr style=\"text-align: right;\">\n",
       "      <th></th>\n",
       "      <th>name</th>\n",
       "      <th>brand</th>\n",
       "      <th>price</th>\n",
       "      <th>store</th>\n",
       "      <th>website</th>\n",
       "    </tr>\n",
       "  </thead>\n",
       "  <tbody>\n",
       "    <tr>\n",
       "      <th>2863</th>\n",
       "      <td>Kypris Serum: Clearing Serum</td>\n",
       "      <td>Kypris</td>\n",
       "      <td>$90.0</td>\n",
       "      <td>Credo</td>\n",
       "      <td>&lt;a href=\"https://credobeauty.com//collections/...</td>\n",
       "    </tr>\n",
       "    <tr>\n",
       "      <th>2781</th>\n",
       "      <td>Daily Skin Nutrition</td>\n",
       "      <td>Indie Lee</td>\n",
       "      <td>$80.0</td>\n",
       "      <td>Credo</td>\n",
       "      <td>&lt;a href=\"https://credobeauty.com//collections/...</td>\n",
       "    </tr>\n",
       "    <tr>\n",
       "      <th>2844</th>\n",
       "      <td>Lightening Serum</td>\n",
       "      <td>Marie Veronique</td>\n",
       "      <td>$110.0</td>\n",
       "      <td>Credo</td>\n",
       "      <td>&lt;a href=\"https://credobeauty.com//collections/...</td>\n",
       "    </tr>\n",
       "    <tr>\n",
       "      <th>2799</th>\n",
       "      <td>Stem Cell Serum</td>\n",
       "      <td>Indie Lee</td>\n",
       "      <td>$135.0</td>\n",
       "      <td>Credo</td>\n",
       "      <td>&lt;a href=\"https://credobeauty.com//collections/...</td>\n",
       "    </tr>\n",
       "    <tr>\n",
       "      <th>2829</th>\n",
       "      <td>Nutrient Concentrate</td>\n",
       "      <td>Susanne Kaufmann</td>\n",
       "      <td>$156.0</td>\n",
       "      <td>Credo</td>\n",
       "      <td>&lt;a href=\"https://credobeauty.com//collections/...</td>\n",
       "    </tr>\n",
       "  </tbody>\n",
       "</table>\n",
       "</div>"
      ],
      "text/plain": [
       "                              name             brand   price  store  \\\n",
       "2863  Kypris Serum: Clearing Serum            Kypris   $90.0  Credo   \n",
       "2781          Daily Skin Nutrition         Indie Lee   $80.0  Credo   \n",
       "2844              Lightening Serum   Marie Veronique  $110.0  Credo   \n",
       "2799               Stem Cell Serum         Indie Lee  $135.0  Credo   \n",
       "2829          Nutrient Concentrate  Susanne Kaufmann  $156.0  Credo   \n",
       "\n",
       "                                                website  \n",
       "2863  <a href=\"https://credobeauty.com//collections/...  \n",
       "2781  <a href=\"https://credobeauty.com//collections/...  \n",
       "2844  <a href=\"https://credobeauty.com//collections/...  \n",
       "2799  <a href=\"https://credobeauty.com//collections/...  \n",
       "2829  <a href=\"https://credobeauty.com//collections/...  "
      ]
     },
     "execution_count": 15,
     "metadata": {},
     "output_type": "execute_result"
    }
   ],
   "source": [
    "print_to_screen_other"
   ]
  },
  {
   "cell_type": "markdown",
   "metadata": {},
   "source": [
    "## Flask App"
   ]
  },
  {
   "cell_type": "markdown",
   "metadata": {},
   "source": [
    "The full code can be found and ran from file \"product_recommender.py\". In the most simple term you initiate the Flask, and pass all the above code under a function in the code. I ended up having 4 different pages. First page where the user enters the product name, page if the product is not found, page if it's already part of the \"Clean Sephora\", and page for if it is in the database and is not part of \"Clean Sephora\". The HTML files which are being called by \"render_template\" command in the \"product_recommender.py\" are in the templates folder. Images that are called on from HTML files are saved in static folder. "
   ]
  },
  {
   "cell_type": "markdown",
   "metadata": {},
   "source": [
    "<img src=\"./images/page1.jpeg\">"
   ]
  },
  {
   "cell_type": "markdown",
   "metadata": {},
   "source": [
    "<img src=\"./images/page2.jpeg\">"
   ]
  },
  {
   "cell_type": "markdown",
   "metadata": {},
   "source": [
    "<img src=\"./images/page3.jpeg\">"
   ]
  },
  {
   "cell_type": "markdown",
   "metadata": {},
   "source": [
    "<img src=\"./images/page4.jpeg\">"
   ]
  },
  {
   "cell_type": "code",
   "execution_count": null,
   "metadata": {},
   "outputs": [],
   "source": []
  }
 ],
 "metadata": {
  "kernelspec": {
   "display_name": "Python [conda env:root] *",
   "language": "python",
   "name": "conda-root-py"
  },
  "language_info": {
   "codemirror_mode": {
    "name": "ipython",
    "version": 3
   },
   "file_extension": ".py",
   "mimetype": "text/x-python",
   "name": "python",
   "nbconvert_exporter": "python",
   "pygments_lexer": "ipython3",
   "version": "3.7.4"
  }
 },
 "nbformat": 4,
 "nbformat_minor": 2
}
