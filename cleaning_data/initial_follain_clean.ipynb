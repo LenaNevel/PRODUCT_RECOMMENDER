{
 "cells": [
  {
   "cell_type": "code",
   "execution_count": 1,
   "metadata": {},
   "outputs": [],
   "source": [
    "import pandas as pd\n",
    "import re"
   ]
  },
  {
   "cell_type": "code",
   "execution_count": 2,
   "metadata": {},
   "outputs": [],
   "source": [
    "products = pd.read_csv('../data/follain_product_info.csv')\n",
    "urls = pd.read_csv('../data/follain_product_slugs.csv')"
   ]
  },
  {
   "cell_type": "code",
   "execution_count": 3,
   "metadata": {},
   "outputs": [
    {
     "data": {
      "text/html": [
       "<div>\n",
       "<style scoped>\n",
       "    .dataframe tbody tr th:only-of-type {\n",
       "        vertical-align: middle;\n",
       "    }\n",
       "\n",
       "    .dataframe tbody tr th {\n",
       "        vertical-align: top;\n",
       "    }\n",
       "\n",
       "    .dataframe thead th {\n",
       "        text-align: right;\n",
       "    }\n",
       "</style>\n",
       "<table border=\"1\" class=\"dataframe\">\n",
       "  <thead>\n",
       "    <tr style=\"text-align: right;\">\n",
       "      <th></th>\n",
       "      <th>name</th>\n",
       "      <th>brand</th>\n",
       "      <th>category</th>\n",
       "      <th>price</th>\n",
       "      <th>ingredients</th>\n",
       "    </tr>\n",
       "  </thead>\n",
       "  <tbody>\n",
       "    <tr>\n",
       "      <th>0</th>\n",
       "      <td>Brightening Cleanser</td>\n",
       "      <td>Indie Lee</td>\n",
       "      <td>cleansers</td>\n",
       "      <td>\\n\\n          $34.00\\n        \\n</td>\n",
       "      <td>['Water', 'Decyl Glucoside', 'Disodium Coco Gl...</td>\n",
       "    </tr>\n",
       "    <tr>\n",
       "      <th>1</th>\n",
       "      <td>Ocean Cleanser</td>\n",
       "      <td>OSEA</td>\n",
       "      <td>cleansers</td>\n",
       "      <td>\\n\\n          $48.00\\n        \\n</td>\n",
       "      <td>['Aqua', '*Algae Extract', 'Decyl Glucoside', ...</td>\n",
       "    </tr>\n",
       "    <tr>\n",
       "      <th>2</th>\n",
       "      <td>Regenerating Cleanser</td>\n",
       "      <td>Tata Harper</td>\n",
       "      <td>cleansers</td>\n",
       "      <td>\\n\\n          $84.00\\n        \\n</td>\n",
       "      <td>['*Aloe Vera Leaf Juice', 'Cetearyl Alcohol', ...</td>\n",
       "    </tr>\n",
       "    <tr>\n",
       "      <th>3</th>\n",
       "      <td>Vitamin B Cleansing Oil &amp; Makeup Remover</td>\n",
       "      <td>One Love Organics</td>\n",
       "      <td>cleansers</td>\n",
       "      <td>\\n\\n          $42.00\\n        \\n</td>\n",
       "      <td>['*Helianthus Annus (Sunflower) Seed Oil', 'Ca...</td>\n",
       "    </tr>\n",
       "    <tr>\n",
       "      <th>4</th>\n",
       "      <td>Fantastic Face Wash</td>\n",
       "      <td>Ursa Major</td>\n",
       "      <td>cleansers</td>\n",
       "      <td>\\n\\n          $28.00\\n        \\n</td>\n",
       "      <td>['*Aloe Barbadensis (Aloe Vera) Leaf Juice', '...</td>\n",
       "    </tr>\n",
       "  </tbody>\n",
       "</table>\n",
       "</div>"
      ],
      "text/plain": [
       "                                       name              brand   category  \\\n",
       "0                      Brightening Cleanser          Indie Lee  cleansers   \n",
       "1                            Ocean Cleanser               OSEA  cleansers   \n",
       "2                     Regenerating Cleanser        Tata Harper  cleansers   \n",
       "3  Vitamin B Cleansing Oil & Makeup Remover  One Love Organics  cleansers   \n",
       "4                       Fantastic Face Wash         Ursa Major  cleansers   \n",
       "\n",
       "                              price  \\\n",
       "0  \\n\\n          $34.00\\n        \\n   \n",
       "1  \\n\\n          $48.00\\n        \\n   \n",
       "2  \\n\\n          $84.00\\n        \\n   \n",
       "3  \\n\\n          $42.00\\n        \\n   \n",
       "4  \\n\\n          $28.00\\n        \\n   \n",
       "\n",
       "                                         ingredients  \n",
       "0  ['Water', 'Decyl Glucoside', 'Disodium Coco Gl...  \n",
       "1  ['Aqua', '*Algae Extract', 'Decyl Glucoside', ...  \n",
       "2  ['*Aloe Vera Leaf Juice', 'Cetearyl Alcohol', ...  \n",
       "3  ['*Helianthus Annus (Sunflower) Seed Oil', 'Ca...  \n",
       "4  ['*Aloe Barbadensis (Aloe Vera) Leaf Juice', '...  "
      ]
     },
     "execution_count": 3,
     "metadata": {},
     "output_type": "execute_result"
    }
   ],
   "source": [
    "products.head()"
   ]
  },
  {
   "cell_type": "code",
   "execution_count": 4,
   "metadata": {},
   "outputs": [],
   "source": [
    "products['store'] = 'Follain'"
   ]
  },
  {
   "cell_type": "code",
   "execution_count": 5,
   "metadata": {},
   "outputs": [],
   "source": [
    "urls.href = 'https://follain.com/' + urls.href"
   ]
  },
  {
   "cell_type": "code",
   "execution_count": 6,
   "metadata": {},
   "outputs": [
    {
     "data": {
      "text/html": [
       "<div>\n",
       "<style scoped>\n",
       "    .dataframe tbody tr th:only-of-type {\n",
       "        vertical-align: middle;\n",
       "    }\n",
       "\n",
       "    .dataframe tbody tr th {\n",
       "        vertical-align: top;\n",
       "    }\n",
       "\n",
       "    .dataframe thead th {\n",
       "        text-align: right;\n",
       "    }\n",
       "</style>\n",
       "<table border=\"1\" class=\"dataframe\">\n",
       "  <thead>\n",
       "    <tr style=\"text-align: right;\">\n",
       "      <th></th>\n",
       "      <th>category</th>\n",
       "      <th>href</th>\n",
       "    </tr>\n",
       "  </thead>\n",
       "  <tbody>\n",
       "    <tr>\n",
       "      <th>0</th>\n",
       "      <td>cleansers</td>\n",
       "      <td>https://follain.com//collections/skincare-clea...</td>\n",
       "    </tr>\n",
       "    <tr>\n",
       "      <th>1</th>\n",
       "      <td>cleansers</td>\n",
       "      <td>https://follain.com//collections/skincare-clea...</td>\n",
       "    </tr>\n",
       "    <tr>\n",
       "      <th>2</th>\n",
       "      <td>cleansers</td>\n",
       "      <td>https://follain.com//collections/skincare-clea...</td>\n",
       "    </tr>\n",
       "    <tr>\n",
       "      <th>3</th>\n",
       "      <td>cleansers</td>\n",
       "      <td>https://follain.com//collections/skincare-clea...</td>\n",
       "    </tr>\n",
       "    <tr>\n",
       "      <th>4</th>\n",
       "      <td>cleansers</td>\n",
       "      <td>https://follain.com//collections/skincare-clea...</td>\n",
       "    </tr>\n",
       "  </tbody>\n",
       "</table>\n",
       "</div>"
      ],
      "text/plain": [
       "    category                                               href\n",
       "0  cleansers  https://follain.com//collections/skincare-clea...\n",
       "1  cleansers  https://follain.com//collections/skincare-clea...\n",
       "2  cleansers  https://follain.com//collections/skincare-clea...\n",
       "3  cleansers  https://follain.com//collections/skincare-clea...\n",
       "4  cleansers  https://follain.com//collections/skincare-clea..."
      ]
     },
     "execution_count": 6,
     "metadata": {},
     "output_type": "execute_result"
    }
   ],
   "source": [
    "urls.head()"
   ]
  },
  {
   "cell_type": "code",
   "execution_count": 7,
   "metadata": {},
   "outputs": [],
   "source": [
    "products['url'] = urls['href']"
   ]
  },
  {
   "cell_type": "code",
   "execution_count": 8,
   "metadata": {},
   "outputs": [
    {
     "data": {
      "text/html": [
       "<div>\n",
       "<style scoped>\n",
       "    .dataframe tbody tr th:only-of-type {\n",
       "        vertical-align: middle;\n",
       "    }\n",
       "\n",
       "    .dataframe tbody tr th {\n",
       "        vertical-align: top;\n",
       "    }\n",
       "\n",
       "    .dataframe thead th {\n",
       "        text-align: right;\n",
       "    }\n",
       "</style>\n",
       "<table border=\"1\" class=\"dataframe\">\n",
       "  <thead>\n",
       "    <tr style=\"text-align: right;\">\n",
       "      <th></th>\n",
       "      <th>name</th>\n",
       "      <th>brand</th>\n",
       "      <th>category</th>\n",
       "      <th>price</th>\n",
       "      <th>ingredients</th>\n",
       "      <th>store</th>\n",
       "      <th>url</th>\n",
       "    </tr>\n",
       "  </thead>\n",
       "  <tbody>\n",
       "    <tr>\n",
       "      <th>0</th>\n",
       "      <td>Brightening Cleanser</td>\n",
       "      <td>Indie Lee</td>\n",
       "      <td>cleansers</td>\n",
       "      <td>\\n\\n          $34.00\\n        \\n</td>\n",
       "      <td>['Water', 'Decyl Glucoside', 'Disodium Coco Gl...</td>\n",
       "      <td>Follain</td>\n",
       "      <td>https://follain.com//collections/skincare-clea...</td>\n",
       "    </tr>\n",
       "    <tr>\n",
       "      <th>1</th>\n",
       "      <td>Ocean Cleanser</td>\n",
       "      <td>OSEA</td>\n",
       "      <td>cleansers</td>\n",
       "      <td>\\n\\n          $48.00\\n        \\n</td>\n",
       "      <td>['Aqua', '*Algae Extract', 'Decyl Glucoside', ...</td>\n",
       "      <td>Follain</td>\n",
       "      <td>https://follain.com//collections/skincare-clea...</td>\n",
       "    </tr>\n",
       "    <tr>\n",
       "      <th>2</th>\n",
       "      <td>Regenerating Cleanser</td>\n",
       "      <td>Tata Harper</td>\n",
       "      <td>cleansers</td>\n",
       "      <td>\\n\\n          $84.00\\n        \\n</td>\n",
       "      <td>['*Aloe Vera Leaf Juice', 'Cetearyl Alcohol', ...</td>\n",
       "      <td>Follain</td>\n",
       "      <td>https://follain.com//collections/skincare-clea...</td>\n",
       "    </tr>\n",
       "    <tr>\n",
       "      <th>3</th>\n",
       "      <td>Vitamin B Cleansing Oil &amp; Makeup Remover</td>\n",
       "      <td>One Love Organics</td>\n",
       "      <td>cleansers</td>\n",
       "      <td>\\n\\n          $42.00\\n        \\n</td>\n",
       "      <td>['*Helianthus Annus (Sunflower) Seed Oil', 'Ca...</td>\n",
       "      <td>Follain</td>\n",
       "      <td>https://follain.com//collections/skincare-clea...</td>\n",
       "    </tr>\n",
       "    <tr>\n",
       "      <th>4</th>\n",
       "      <td>Fantastic Face Wash</td>\n",
       "      <td>Ursa Major</td>\n",
       "      <td>cleansers</td>\n",
       "      <td>\\n\\n          $28.00\\n        \\n</td>\n",
       "      <td>['*Aloe Barbadensis (Aloe Vera) Leaf Juice', '...</td>\n",
       "      <td>Follain</td>\n",
       "      <td>https://follain.com//collections/skincare-clea...</td>\n",
       "    </tr>\n",
       "  </tbody>\n",
       "</table>\n",
       "</div>"
      ],
      "text/plain": [
       "                                       name              brand   category  \\\n",
       "0                      Brightening Cleanser          Indie Lee  cleansers   \n",
       "1                            Ocean Cleanser               OSEA  cleansers   \n",
       "2                     Regenerating Cleanser        Tata Harper  cleansers   \n",
       "3  Vitamin B Cleansing Oil & Makeup Remover  One Love Organics  cleansers   \n",
       "4                       Fantastic Face Wash         Ursa Major  cleansers   \n",
       "\n",
       "                              price  \\\n",
       "0  \\n\\n          $34.00\\n        \\n   \n",
       "1  \\n\\n          $48.00\\n        \\n   \n",
       "2  \\n\\n          $84.00\\n        \\n   \n",
       "3  \\n\\n          $42.00\\n        \\n   \n",
       "4  \\n\\n          $28.00\\n        \\n   \n",
       "\n",
       "                                         ingredients    store  \\\n",
       "0  ['Water', 'Decyl Glucoside', 'Disodium Coco Gl...  Follain   \n",
       "1  ['Aqua', '*Algae Extract', 'Decyl Glucoside', ...  Follain   \n",
       "2  ['*Aloe Vera Leaf Juice', 'Cetearyl Alcohol', ...  Follain   \n",
       "3  ['*Helianthus Annus (Sunflower) Seed Oil', 'Ca...  Follain   \n",
       "4  ['*Aloe Barbadensis (Aloe Vera) Leaf Juice', '...  Follain   \n",
       "\n",
       "                                                 url  \n",
       "0  https://follain.com//collections/skincare-clea...  \n",
       "1  https://follain.com//collections/skincare-clea...  \n",
       "2  https://follain.com//collections/skincare-clea...  \n",
       "3  https://follain.com//collections/skincare-clea...  \n",
       "4  https://follain.com//collections/skincare-clea...  "
      ]
     },
     "execution_count": 8,
     "metadata": {},
     "output_type": "execute_result"
    }
   ],
   "source": [
    "products.head()"
   ]
  },
  {
   "cell_type": "code",
   "execution_count": 9,
   "metadata": {},
   "outputs": [],
   "source": [
    "products['type'] = 'clean'"
   ]
  },
  {
   "cell_type": "code",
   "execution_count": 10,
   "metadata": {},
   "outputs": [],
   "source": [
    "#dropping duplicate occurance by 'name' and 'brand' of product\n",
    "products.drop_duplicates(['name', 'brand'], keep=\"first\", inplace = True)"
   ]
  },
  {
   "cell_type": "markdown",
   "metadata": {},
   "source": [
    "#### Price"
   ]
  },
  {
   "cell_type": "code",
   "execution_count": 11,
   "metadata": {},
   "outputs": [],
   "source": [
    "#converting the price to float\n",
    "products.price = products.price.str.replace(\"\\n\", \"\").str.replace('$', '')\n",
    "products.price = products.price.astype(float)"
   ]
  },
  {
   "cell_type": "markdown",
   "metadata": {},
   "source": [
    "#### Ingredients"
   ]
  },
  {
   "cell_type": "code",
   "execution_count": 12,
   "metadata": {},
   "outputs": [
    {
     "data": {
      "text/html": [
       "<div>\n",
       "<style scoped>\n",
       "    .dataframe tbody tr th:only-of-type {\n",
       "        vertical-align: middle;\n",
       "    }\n",
       "\n",
       "    .dataframe tbody tr th {\n",
       "        vertical-align: top;\n",
       "    }\n",
       "\n",
       "    .dataframe thead th {\n",
       "        text-align: right;\n",
       "    }\n",
       "</style>\n",
       "<table border=\"1\" class=\"dataframe\">\n",
       "  <thead>\n",
       "    <tr style=\"text-align: right;\">\n",
       "      <th></th>\n",
       "      <th>name</th>\n",
       "      <th>brand</th>\n",
       "      <th>category</th>\n",
       "      <th>price</th>\n",
       "      <th>ingredients</th>\n",
       "      <th>store</th>\n",
       "      <th>url</th>\n",
       "      <th>type</th>\n",
       "    </tr>\n",
       "  </thead>\n",
       "  <tbody>\n",
       "  </tbody>\n",
       "</table>\n",
       "</div>"
      ],
      "text/plain": [
       "Empty DataFrame\n",
       "Columns: [name, brand, category, price, ingredients, store, url, type]\n",
       "Index: []"
      ]
     },
     "execution_count": 12,
     "metadata": {},
     "output_type": "execute_result"
    }
   ],
   "source": [
    "products[products.ingredients.isnull()]"
   ]
  },
  {
   "cell_type": "code",
   "execution_count": 13,
   "metadata": {},
   "outputs": [],
   "source": [
    "products['ingredients'] = products['ingredients'].str.replace('[', \"\")\n",
    "products['ingredients'] = products['ingredients'].str.replace(']', \"\")\n",
    "products['ingredients'] = products['ingredients'].str.replace('*', \"\")\n",
    "products['ingredients'] = products['ingredients'].str.replace('1,2-Hexanediol', \"12Hexanediol\")\n",
    "products['ingredients'] = products['ingredients'].str.replace('\"', \"\")\n",
    "products['ingredients'] = products['ingredients'].str.replace(\"'\", \"\")\n",
    "products['ingredients'] = products['ingredients'].str.replace('100% Pure ', \"\")\n",
    "products['ingredients'] = products['ingredients'].str.replace('Active Ingredient: ', \"\")\n",
    "products['ingredients'] = products['ingredients'].str.replace('Active Ingredients: ', \"\")\n",
    "products['ingredients'] = products['ingredients'].str.replace('Aqua', \"Water\")\n",
    "products['ingredients'] = products['ingredients'].str.replace(' - Hydrating Agent', \"\")\n",
    "products['ingredients'] = products['ingredients'].str.replace('Inactive Ingredients: ', \"\")\n",
    "products['ingredients'] = products['ingredients'].str.replace(' - Naturally Derived Emulsifier', \"\")\n",
    "products['ingredients'] = products['ingredients'].str.replace(' - Skin Conditioner', \"\")\n",
    "products['ingredients'] = products['ingredients'].str.replace(' - Mineral Opacifier', \"\")\n",
    "products['ingredients'] = products['ingredients'].str.replace(' - Naturally Derived Thickener', \"\")"
   ]
  },
  {
   "cell_type": "code",
   "execution_count": 14,
   "metadata": {},
   "outputs": [],
   "source": [
    "for i in products.index:\n",
    "    #remove anything between parethesis and parenthesis\n",
    "    new_string = re.sub(r'\\([^)]*\\)', '', products.loc[i, 'ingredients'])\n",
    "    products.loc[i, 'ingredients'] = new_string.replace('  ', ' ')\n",
    "    \n",
    "#remove everything after /\n",
    "for i in products.index:\n",
    "    list_of_ingredients = []\n",
    "    split = products.ingredients[i].split(\", \")\n",
    "    for j in range(len(split)):\n",
    "        results = split[j].split(\"/\")[0]\n",
    "        results = results.strip() #stripping any white space \n",
    "        list_of_ingredients.append(results)\n",
    "    products.loc[i, 'ingredients'] = ', '.join(list_of_ingredients)\n",
    "    \n"
   ]
  },
  {
   "cell_type": "code",
   "execution_count": 15,
   "metadata": {},
   "outputs": [],
   "source": [
    "# #this is a quick method to check the ingredients for legibility\n",
    "\n",
    "# all_ingredients = []\n",
    "\n",
    "# for i in products.index:\n",
    "#     list_ingredients = products.ingredients[i].split(', ')\n",
    "#     for j in list_ingredients:     \n",
    "#         all_ingredients.append(j.strip())\n",
    "# print(len(all_ingredients))\n",
    "# print(len(set(all_ingredients)))\n",
    "\n",
    "# unique_ingredients = set(all_ingredients)\n",
    "# sorted(unique_ingredients)[0:1000]"
   ]
  },
  {
   "cell_type": "code",
   "execution_count": null,
   "metadata": {},
   "outputs": [],
   "source": []
  },
  {
   "cell_type": "code",
   "execution_count": 16,
   "metadata": {},
   "outputs": [
    {
     "data": {
      "text/html": [
       "<div>\n",
       "<style scoped>\n",
       "    .dataframe tbody tr th:only-of-type {\n",
       "        vertical-align: middle;\n",
       "    }\n",
       "\n",
       "    .dataframe tbody tr th {\n",
       "        vertical-align: top;\n",
       "    }\n",
       "\n",
       "    .dataframe thead th {\n",
       "        text-align: right;\n",
       "    }\n",
       "</style>\n",
       "<table border=\"1\" class=\"dataframe\">\n",
       "  <thead>\n",
       "    <tr style=\"text-align: right;\">\n",
       "      <th></th>\n",
       "      <th>name</th>\n",
       "      <th>brand</th>\n",
       "      <th>category</th>\n",
       "      <th>price</th>\n",
       "      <th>ingredients</th>\n",
       "      <th>store</th>\n",
       "      <th>url</th>\n",
       "      <th>type</th>\n",
       "    </tr>\n",
       "  </thead>\n",
       "  <tbody>\n",
       "    <tr>\n",
       "      <th>0</th>\n",
       "      <td>Brightening Cleanser</td>\n",
       "      <td>Indie Lee</td>\n",
       "      <td>cleansers</td>\n",
       "      <td>34.0</td>\n",
       "      <td>Water, Decyl Glucoside, Disodium Coco Glucosid...</td>\n",
       "      <td>Follain</td>\n",
       "      <td>https://follain.com//collections/skincare-clea...</td>\n",
       "      <td>clean</td>\n",
       "    </tr>\n",
       "    <tr>\n",
       "      <th>1</th>\n",
       "      <td>Ocean Cleanser</td>\n",
       "      <td>OSEA</td>\n",
       "      <td>cleansers</td>\n",
       "      <td>48.0</td>\n",
       "      <td>Water, Algae Extract, Decyl Glucoside, Sodium ...</td>\n",
       "      <td>Follain</td>\n",
       "      <td>https://follain.com//collections/skincare-clea...</td>\n",
       "      <td>clean</td>\n",
       "    </tr>\n",
       "    <tr>\n",
       "      <th>2</th>\n",
       "      <td>Regenerating Cleanser</td>\n",
       "      <td>Tata Harper</td>\n",
       "      <td>cleansers</td>\n",
       "      <td>84.0</td>\n",
       "      <td>Aloe Vera Leaf Juice, Cetearyl Alcohol, Cetear...</td>\n",
       "      <td>Follain</td>\n",
       "      <td>https://follain.com//collections/skincare-clea...</td>\n",
       "      <td>clean</td>\n",
       "    </tr>\n",
       "    <tr>\n",
       "      <th>3</th>\n",
       "      <td>Vitamin B Cleansing Oil &amp; Makeup Remover</td>\n",
       "      <td>One Love Organics</td>\n",
       "      <td>cleansers</td>\n",
       "      <td>42.0</td>\n",
       "      <td>Helianthus Annus Seed Oil, Caprylic, Di-PPG-2 ...</td>\n",
       "      <td>Follain</td>\n",
       "      <td>https://follain.com//collections/skincare-clea...</td>\n",
       "      <td>clean</td>\n",
       "    </tr>\n",
       "    <tr>\n",
       "      <th>4</th>\n",
       "      <td>Fantastic Face Wash</td>\n",
       "      <td>Ursa Major</td>\n",
       "      <td>cleansers</td>\n",
       "      <td>28.0</td>\n",
       "      <td>Aloe Barbadensis Leaf Juice, Lauryl Glucoside,...</td>\n",
       "      <td>Follain</td>\n",
       "      <td>https://follain.com//collections/skincare-clea...</td>\n",
       "      <td>clean</td>\n",
       "    </tr>\n",
       "  </tbody>\n",
       "</table>\n",
       "</div>"
      ],
      "text/plain": [
       "                                       name              brand   category  \\\n",
       "0                      Brightening Cleanser          Indie Lee  cleansers   \n",
       "1                            Ocean Cleanser               OSEA  cleansers   \n",
       "2                     Regenerating Cleanser        Tata Harper  cleansers   \n",
       "3  Vitamin B Cleansing Oil & Makeup Remover  One Love Organics  cleansers   \n",
       "4                       Fantastic Face Wash         Ursa Major  cleansers   \n",
       "\n",
       "   price                                        ingredients    store  \\\n",
       "0   34.0  Water, Decyl Glucoside, Disodium Coco Glucosid...  Follain   \n",
       "1   48.0  Water, Algae Extract, Decyl Glucoside, Sodium ...  Follain   \n",
       "2   84.0  Aloe Vera Leaf Juice, Cetearyl Alcohol, Cetear...  Follain   \n",
       "3   42.0  Helianthus Annus Seed Oil, Caprylic, Di-PPG-2 ...  Follain   \n",
       "4   28.0  Aloe Barbadensis Leaf Juice, Lauryl Glucoside,...  Follain   \n",
       "\n",
       "                                                 url   type  \n",
       "0  https://follain.com//collections/skincare-clea...  clean  \n",
       "1  https://follain.com//collections/skincare-clea...  clean  \n",
       "2  https://follain.com//collections/skincare-clea...  clean  \n",
       "3  https://follain.com//collections/skincare-clea...  clean  \n",
       "4  https://follain.com//collections/skincare-clea...  clean  "
      ]
     },
     "execution_count": 16,
     "metadata": {},
     "output_type": "execute_result"
    }
   ],
   "source": [
    "products.head()"
   ]
  },
  {
   "cell_type": "code",
   "execution_count": 17,
   "metadata": {},
   "outputs": [],
   "source": [
    "products.to_csv(\"../data/follain_initial_clean.csv\", index = False)"
   ]
  }
 ],
 "metadata": {
  "kernelspec": {
   "display_name": "Python [conda env:root] *",
   "language": "python",
   "name": "conda-root-py"
  },
  "language_info": {
   "codemirror_mode": {
    "name": "ipython",
    "version": 3
   },
   "file_extension": ".py",
   "mimetype": "text/x-python",
   "name": "python",
   "nbconvert_exporter": "python",
   "pygments_lexer": "ipython3",
   "version": "3.7.4"
  }
 },
 "nbformat": 4,
 "nbformat_minor": 2
}
