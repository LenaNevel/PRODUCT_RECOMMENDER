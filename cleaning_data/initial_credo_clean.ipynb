{
 "cells": [
  {
   "cell_type": "code",
   "execution_count": 1,
   "metadata": {},
   "outputs": [],
   "source": [
    "import pandas as pd\n",
    "import re"
   ]
  },
  {
   "cell_type": "code",
   "execution_count": 2,
   "metadata": {},
   "outputs": [],
   "source": [
    "products = pd.read_csv('../data/credo_product_info.csv')\n",
    "urls = pd.read_csv('../data/credo_product_slugs.csv')"
   ]
  },
  {
   "cell_type": "code",
   "execution_count": 3,
   "metadata": {},
   "outputs": [
    {
     "data": {
      "text/html": [
       "<div>\n",
       "<style scoped>\n",
       "    .dataframe tbody tr th:only-of-type {\n",
       "        vertical-align: middle;\n",
       "    }\n",
       "\n",
       "    .dataframe tbody tr th {\n",
       "        vertical-align: top;\n",
       "    }\n",
       "\n",
       "    .dataframe thead th {\n",
       "        text-align: right;\n",
       "    }\n",
       "</style>\n",
       "<table border=\"1\" class=\"dataframe\">\n",
       "  <thead>\n",
       "    <tr style=\"text-align: right;\">\n",
       "      <th></th>\n",
       "      <th>category</th>\n",
       "      <th>href</th>\n",
       "    </tr>\n",
       "  </thead>\n",
       "  <tbody>\n",
       "    <tr>\n",
       "      <th>0</th>\n",
       "      <td>all-cleansers</td>\n",
       "      <td>/collections/all-cleansers/products/one-love-o...</td>\n",
       "    </tr>\n",
       "    <tr>\n",
       "      <th>1</th>\n",
       "      <td>all-cleansers</td>\n",
       "      <td>/collections/all-cleansers/products/exfoliatin...</td>\n",
       "    </tr>\n",
       "    <tr>\n",
       "      <th>2</th>\n",
       "      <td>all-cleansers</td>\n",
       "      <td>/collections/all-cleansers/products/josh-roseb...</td>\n",
       "    </tr>\n",
       "    <tr>\n",
       "      <th>3</th>\n",
       "      <td>all-cleansers</td>\n",
       "      <td>/collections/all-cleansers/products/indie-lee-...</td>\n",
       "    </tr>\n",
       "    <tr>\n",
       "      <th>4</th>\n",
       "      <td>all-cleansers</td>\n",
       "      <td>/collections/all-cleansers/products/indie-lee-...</td>\n",
       "    </tr>\n",
       "  </tbody>\n",
       "</table>\n",
       "</div>"
      ],
      "text/plain": [
       "        category                                               href\n",
       "0  all-cleansers  /collections/all-cleansers/products/one-love-o...\n",
       "1  all-cleansers  /collections/all-cleansers/products/exfoliatin...\n",
       "2  all-cleansers  /collections/all-cleansers/products/josh-roseb...\n",
       "3  all-cleansers  /collections/all-cleansers/products/indie-lee-...\n",
       "4  all-cleansers  /collections/all-cleansers/products/indie-lee-..."
      ]
     },
     "execution_count": 3,
     "metadata": {},
     "output_type": "execute_result"
    }
   ],
   "source": [
    "urls.head()"
   ]
  },
  {
   "cell_type": "code",
   "execution_count": 4,
   "metadata": {},
   "outputs": [
    {
     "data": {
      "text/html": [
       "<div>\n",
       "<style scoped>\n",
       "    .dataframe tbody tr th:only-of-type {\n",
       "        vertical-align: middle;\n",
       "    }\n",
       "\n",
       "    .dataframe tbody tr th {\n",
       "        vertical-align: top;\n",
       "    }\n",
       "\n",
       "    .dataframe thead th {\n",
       "        text-align: right;\n",
       "    }\n",
       "</style>\n",
       "<table border=\"1\" class=\"dataframe\">\n",
       "  <thead>\n",
       "    <tr style=\"text-align: right;\">\n",
       "      <th></th>\n",
       "      <th>name</th>\n",
       "      <th>brand</th>\n",
       "      <th>category</th>\n",
       "      <th>price</th>\n",
       "      <th>ingredients</th>\n",
       "    </tr>\n",
       "  </thead>\n",
       "  <tbody>\n",
       "    <tr>\n",
       "      <th>0</th>\n",
       "      <td>Vitamin B Enzyme Cleansing Oil + Makeup Remover</td>\n",
       "      <td>One Love Organics</td>\n",
       "      <td>all-cleansers</td>\n",
       "      <td>42.0</td>\n",
       "      <td>helianthus annuus (sunflower) seed oil*, capr...</td>\n",
       "    </tr>\n",
       "    <tr>\n",
       "      <th>1</th>\n",
       "      <td>Exfoliating Instant Facial</td>\n",
       "      <td>Goop</td>\n",
       "      <td>all-cleansers</td>\n",
       "      <td>125.0</td>\n",
       "      <td>aloe barbadensis (aloe) leaf juice*, vitis vi...</td>\n",
       "    </tr>\n",
       "    <tr>\n",
       "      <th>2</th>\n",
       "      <td>Hydrating Accelerator</td>\n",
       "      <td>Josh Rosebrook</td>\n",
       "      <td>all-cleansers</td>\n",
       "      <td>35.0</td>\n",
       "      <td>*aloe vera leaf juice, *jojoba oil, †marula s...</td>\n",
       "    </tr>\n",
       "    <tr>\n",
       "      <th>3</th>\n",
       "      <td>Co Q10 Toner</td>\n",
       "      <td>Indie Lee</td>\n",
       "      <td>all-cleansers</td>\n",
       "      <td>34.0</td>\n",
       "      <td>purified water (aqua), aloe barbadensis, coen...</td>\n",
       "    </tr>\n",
       "    <tr>\n",
       "      <th>4</th>\n",
       "      <td>Brightening Cleanser</td>\n",
       "      <td>Indie Lee</td>\n",
       "      <td>all-cleansers</td>\n",
       "      <td>34.0</td>\n",
       "      <td>purified water, decyl glucoside (veg. oils &amp; ...</td>\n",
       "    </tr>\n",
       "  </tbody>\n",
       "</table>\n",
       "</div>"
      ],
      "text/plain": [
       "                                              name              brand  \\\n",
       "0  Vitamin B Enzyme Cleansing Oil + Makeup Remover  One Love Organics   \n",
       "1                       Exfoliating Instant Facial               Goop   \n",
       "2                            Hydrating Accelerator     Josh Rosebrook   \n",
       "3                                     Co Q10 Toner          Indie Lee   \n",
       "4                             Brightening Cleanser          Indie Lee   \n",
       "\n",
       "        category  price                                        ingredients  \n",
       "0  all-cleansers   42.0   helianthus annuus (sunflower) seed oil*, capr...  \n",
       "1  all-cleansers  125.0   aloe barbadensis (aloe) leaf juice*, vitis vi...  \n",
       "2  all-cleansers   35.0   *aloe vera leaf juice, *jojoba oil, †marula s...  \n",
       "3  all-cleansers   34.0   purified water (aqua), aloe barbadensis, coen...  \n",
       "4  all-cleansers   34.0   purified water, decyl glucoside (veg. oils & ...  "
      ]
     },
     "execution_count": 4,
     "metadata": {},
     "output_type": "execute_result"
    }
   ],
   "source": [
    "products.head()"
   ]
  },
  {
   "cell_type": "code",
   "execution_count": 5,
   "metadata": {},
   "outputs": [],
   "source": [
    "#adding the urls\n",
    "#have to first drop the urls that we dropped earlier in product gathering file\n",
    "urls.drop([50, 77, 161, 204, 253, 273], inplace = True)\n",
    "urls.reset_index(drop = True, inplace = True)\n",
    "urls.href = 'https://credobeauty.com/' + urls.href\n",
    "products['url'] = urls.href"
   ]
  },
  {
   "cell_type": "code",
   "execution_count": null,
   "metadata": {},
   "outputs": [],
   "source": []
  },
  {
   "cell_type": "code",
   "execution_count": 6,
   "metadata": {},
   "outputs": [],
   "source": [
    "#adding the two products that failed to scrape\n",
    "products_missing = []\n",
    "#adding the failed i=273\n",
    "product = {}\n",
    "product['name'] = \"Le Masque Hydralift Intense\"\n",
    "product['brand'] = \"African Botanics\"\n",
    "product['category'] = 'masks-1'\n",
    "product['price'] = \"180.0\"\n",
    "product['url'] = 'https://credobeauty.com/products/le-masque-hydralift-intense'\n",
    "\n",
    "product['ingredients'] = \"aqua (water), squalane, hamamelis virginia (witch hazel) extract, glycerin (botanical), macadamia ternifolia seed oil, phospholipids, glycine soja sterols, stearic acid, safflower oil/palm oil aminopropanediol esters, yeast extract, kappaphycus alvarezii extract, caesalpinia spinosa fruit extract, helichrysum stoechas extract, chlorella sorokiniana extract, saccharide hydrolysate, butylene glycol (sugar cane), sclerocarya birrea (marula)** seed oil, hyaluronic acid, hydrolyzed f-fucoidan (laminaria) algae, hydroxyethyl cellulose, xanthan gum, ascorbyl palmitate (vitamin c), myrothamus flabellifolius (resurrection) plant oil, hydrolyzed candida saitoana extract, niacinamide (vitamin b3), citrillus lanatus (kalahari melon)** seed oil, rosa centifolia (rose)* flower extract, cape aloe (aloe ferox)* leaf, cucumis sativus (cucumber) extract, malva sylvestris (mallow) extract, adansonia digitata (baobab)** seed oil, tetrasodium glutamate diacetate, aspalathus linearis (green rooibos)* tea extract, cyclopia genistoides (honeybush)* leaf extract, sodium hydroxide, ethylhexylglycerin, phenoxyethanol. *organic, **wild-harvested ingredients. \"\n",
    "products_missing.append(product)\n",
    "#adding the failed i = 611\n",
    "product = {}\n",
    "product['name'] = \"Watermelon Lip Balm\"\n",
    "product['brand'] = \"DedCool\"\n",
    "product['category'] = 'lip-care'\n",
    "product['price'] = '14.0'\n",
    "product['url'] = 'https://credobeauty.com/products/watermelon-lip-balm'\n",
    "product['ingredients'] = \"euphorbia cerifera (candelilla) wax, organic cocos nucifera (coconut) oil*, butyrospermum parkii (shea butter), sesamum indicum (sesame seed) oil, aloe barbadensis (aloe vera) oil, borago officinalis (borage oil), macadamia ternifolia (macadamia nut) seed oil, persa gratissima (avocado) oil, vitis vinifera (grape) seed oil, tocopherol (vitamin e), watermelon flavor​\"\n",
    "products_missing.append(product)\n",
    "\n",
    "\n",
    "product_df = pd.DataFrame(products_missing) \n",
    "products = pd.concat([products, product_df], axis = 0, ignore_index = True, sort = False)"
   ]
  },
  {
   "cell_type": "code",
   "execution_count": 7,
   "metadata": {},
   "outputs": [
    {
     "data": {
      "text/html": [
       "<div>\n",
       "<style scoped>\n",
       "    .dataframe tbody tr th:only-of-type {\n",
       "        vertical-align: middle;\n",
       "    }\n",
       "\n",
       "    .dataframe tbody tr th {\n",
       "        vertical-align: top;\n",
       "    }\n",
       "\n",
       "    .dataframe thead th {\n",
       "        text-align: right;\n",
       "    }\n",
       "</style>\n",
       "<table border=\"1\" class=\"dataframe\">\n",
       "  <thead>\n",
       "    <tr style=\"text-align: right;\">\n",
       "      <th></th>\n",
       "      <th>name</th>\n",
       "      <th>brand</th>\n",
       "      <th>category</th>\n",
       "      <th>price</th>\n",
       "      <th>ingredients</th>\n",
       "      <th>url</th>\n",
       "    </tr>\n",
       "  </thead>\n",
       "  <tbody>\n",
       "    <tr>\n",
       "      <th>606</th>\n",
       "      <td>Le Masque Hydralift Intense</td>\n",
       "      <td>African Botanics</td>\n",
       "      <td>masks-1</td>\n",
       "      <td>180.0</td>\n",
       "      <td>aqua (water), squalane, hamamelis virginia (wi...</td>\n",
       "      <td>https://credobeauty.com/products/le-masque-hyd...</td>\n",
       "    </tr>\n",
       "  </tbody>\n",
       "</table>\n",
       "</div>"
      ],
      "text/plain": [
       "                            name             brand category  price  \\\n",
       "606  Le Masque Hydralift Intense  African Botanics  masks-1  180.0   \n",
       "\n",
       "                                           ingredients  \\\n",
       "606  aqua (water), squalane, hamamelis virginia (wi...   \n",
       "\n",
       "                                                   url  \n",
       "606  https://credobeauty.com/products/le-masque-hyd...  "
      ]
     },
     "execution_count": 7,
     "metadata": {},
     "output_type": "execute_result"
    }
   ],
   "source": [
    "products[products['name'] == \"Le Masque Hydralift Intense\"]"
   ]
  },
  {
   "cell_type": "code",
   "execution_count": 8,
   "metadata": {},
   "outputs": [],
   "source": [
    "#dropping duplicate occurance by 'name' and 'brand' of product\n",
    "products.drop_duplicates(['name', 'brand'], keep=\"first\", inplace = True)"
   ]
  },
  {
   "cell_type": "markdown",
   "metadata": {},
   "source": [
    "#### Price"
   ]
  },
  {
   "cell_type": "code",
   "execution_count": 9,
   "metadata": {},
   "outputs": [],
   "source": [
    "#converting the price to float\n",
    "products.price = products.price.astype(float)"
   ]
  },
  {
   "cell_type": "markdown",
   "metadata": {},
   "source": [
    "#### Ingredients"
   ]
  },
  {
   "cell_type": "code",
   "execution_count": 10,
   "metadata": {},
   "outputs": [],
   "source": [
    "products['ingredients'] = products['ingredients'].str.replace('*', \"\")\n",
    "products['ingredients'] = products['ingredients'].str.replace('\\xa0', \" \")\n",
    "products['ingredients'] = products['ingredients'].str.replace('\\n', \" \")\n",
    "products['ingredients'] = products['ingredients'].str.replace(';', \" \")\n",
    "products['ingredients'] = products['ingredients'].str.replace('aroma•', \" \")\n",
    "products['ingredients'] = products['ingredients'].str.replace('†', \" \")\n",
    "products['ingredients'] = products['ingredients'].str.replace('★', \" \")\n",
    "products['ingredients'] = products['ingredients'].str.replace('‡', \" \")\n",
    "products['ingredients'] = products['ingredients'].str.replace('°', \" \")\n",
    "products['ingredients'] = products['ingredients'].str.replace('§', \" \")\n",
    "\n",
    "products['ingredients'] = products['ingredients'].str.replace('Read More Read Less', \" \")"
   ]
  },
  {
   "cell_type": "code",
   "execution_count": 11,
   "metadata": {},
   "outputs": [],
   "source": [
    "for i in products.index:\n",
    "    #remove anything between parethesis and parenthesis\n",
    "    new_string = re.sub(r'\\([^)]*\\)', '', products.loc[i, 'ingredients'])\n",
    "    products.loc[i, 'ingredients'] = new_string.replace('  ', ' ')\n",
    "    \n",
    "#remove everything after /\n",
    "for i in products.index:\n",
    "    list_of_ingredients = []\n",
    "    split = products.ingredients[i].split(\", \")\n",
    "    for j in range(len(split)):\n",
    "        results = split[j].split(\"/\")[0]\n",
    "        results = results.strip() #stripping any white space \n",
    "        list_of_ingredients.append(results)\n",
    "    products.loc[i, 'ingredients'] = ', '.join(list_of_ingredients)\n",
    "    \n",
    "#remove everything after -\n",
    "for i in products.index:\n",
    "    list_of_ingredients = []\n",
    "    split = products.ingredients[i].split(\", \")\n",
    "    for j in range(len(split)):\n",
    "        results = split[j].split(\"-\")[0]\n",
    "        results = results.strip() #stripping any white space \n",
    "        list_of_ingredients.append(results)\n",
    "    products.loc[i, 'ingredients'] = ', '.join(list_of_ingredients)\n",
    "    \n",
    "#remove everything after :\n",
    "for i in products.index:\n",
    "    list_of_ingredients = []\n",
    "    split = products.ingredients[i].split(\", \")\n",
    "    for j in range(len(split)):\n",
    "        results = split[j].split(\":\")[0]\n",
    "        results = results.strip() #stripping any white space \n",
    "        list_of_ingredients.append(results)\n",
    "    products.loc[i, 'ingredients'] = ', '.join(list_of_ingredients)\n",
    "    \n",
    "    \n",
    "#remove everything after .\n",
    "for i in products.index:\n",
    "    list_of_ingredients = []\n",
    "    split = products.ingredients[i].split(\", \")\n",
    "    for j in range(len(split)):\n",
    "        results = split[j].split(\".\")[0]\n",
    "        results = results.strip() #stripping any white space \n",
    "        list_of_ingredients.append(results)\n",
    "    products.loc[i, 'ingredients'] = ', '.join(list_of_ingredients)"
   ]
  },
  {
   "cell_type": "code",
   "execution_count": 12,
   "metadata": {},
   "outputs": [],
   "source": [
    "# #this is a quick method to check the ingredients for legibility\n",
    "\n",
    "# all_ingredients = []\n",
    "\n",
    "# for i in products.index:\n",
    "#     list_ingredients = products.ingredients[i].split(', ')\n",
    "#     for j in list_ingredients:     \n",
    "#         all_ingredients.append(j.strip())\n",
    "# print(len(all_ingredients))\n",
    "# print(len(set(all_ingredients)))\n",
    "\n",
    "# unique_ingredients = set(all_ingredients)\n",
    "# sorted(unique_ingredients)[1000:2000]"
   ]
  },
  {
   "cell_type": "code",
   "execution_count": 13,
   "metadata": {},
   "outputs": [],
   "source": [
    "products['type'] = 'clean'\n",
    "products['store'] = \"Credo\""
   ]
  },
  {
   "cell_type": "code",
   "execution_count": 14,
   "metadata": {},
   "outputs": [],
   "source": [
    "products.to_csv(\"../data/credo_initial_clean.csv\", index = False)"
   ]
  },
  {
   "cell_type": "code",
   "execution_count": null,
   "metadata": {},
   "outputs": [],
   "source": []
  }
 ],
 "metadata": {
  "kernelspec": {
   "display_name": "Python [conda env:root] *",
   "language": "python",
   "name": "conda-root-py"
  },
  "language_info": {
   "codemirror_mode": {
    "name": "ipython",
    "version": 3
   },
   "file_extension": ".py",
   "mimetype": "text/x-python",
   "name": "python",
   "nbconvert_exporter": "python",
   "pygments_lexer": "ipython3",
   "version": "3.7.4"
  }
 },
 "nbformat": 4,
 "nbformat_minor": 2
}
